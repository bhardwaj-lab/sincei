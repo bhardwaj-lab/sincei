{
 "cells": [
  {
   "cell_type": "code",
   "execution_count": 1,
   "metadata": {},
   "outputs": [],
   "source": [
    "# base\n",
    "import scipy as sc\n",
    "from scipy import sparse, io\n",
    "import numpy as np\n",
    "import pandas as pd\n",
    "# plotting\n",
    "import seaborn as sns\n",
    "from matplotlib import pyplot as plt\n",
    "# clustering and umap\n",
    "from sklearn.decomposition import TruncatedSVD\n",
    "from sklearn.cluster import AgglomerativeClustering\n",
    "import umap\n",
    "from itertools import compress"
   ]
  },
  {
   "cell_type": "code",
   "execution_count": 2,
   "metadata": {},
   "outputs": [],
   "source": [
    "import matplotlib\n",
    "matplotlib.rcParams['figure.figsize'] = [12, 12]\n",
    "from pandas.plotting import scatter_matrix"
   ]
  },
  {
   "cell_type": "code",
   "execution_count": 3,
   "metadata": {},
   "outputs": [],
   "source": [
    "import scanpy as scp\n",
    "import anndata"
   ]
  },
  {
   "cell_type": "code",
   "execution_count": 23,
   "metadata": {},
   "outputs": [],
   "source": [
    "import sklearn"
   ]
  },
  {
   "cell_type": "code",
   "execution_count": 4,
   "metadata": {},
   "outputs": [],
   "source": [
    "def read_mtx(prefix):\n",
    "    mtx = io.mmread(infolder + \".counts.mtx\")\n",
    "    mtx = mtx.tocsr()\n",
    "    with open(infolder + \".colnames.txt\") as col:\n",
    "        colnames = col.read().splitlines()\n",
    "    col.close()\n",
    "    with open(infolder + \".rownames.txt\") as row:\n",
    "        rownames = row.read().splitlines()\n",
    "    row.close()\n",
    "    return mtx, rownames, colnames"
   ]
  },
  {
   "cell_type": "code",
   "execution_count": 5,
   "metadata": {},
   "outputs": [],
   "source": [
    "# from mtx\n",
    "def preprocess_mtx(sparse_mtx, rownames, colnames, min_cell_sum=1000, min_region_sum=10):\n",
    "    ## binarize\n",
    "    nonzero_mask = np.array(sparse_mtx[sparse_mtx.nonzero()] > 1)[0]\n",
    "    rows = sparse_mtx.nonzero()[0][nonzero_mask]\n",
    "    cols = sparse_mtx.nonzero()[1][nonzero_mask]\n",
    "    sparse_mtx[rows, cols] = 1\n",
    "    \n",
    "    ## filter low counts\n",
    "    colmask = np.array(np.sum(sparse_mtx, axis = 0) >= min_cell_sum)[0]\n",
    "    rowmask = np.array(np.sum(sparse_mtx, axis = 1) >= min_region_sum)\n",
    "    rowmask = np.array([x[0] for x in rowmask])\n",
    "    sparse_mtx = sparse_mtx[rowmask, :]\n",
    "    sparse_mtx = sparse_mtx[:, colmask]\n",
    "    \n",
    "    ## create anndata\n",
    "    row_subset = list(compress(rownames, rowmask))\n",
    "    col_subset = list(compress(colnames, colmask))\n",
    "    adata = anndata.AnnData(sparse_mtx.transpose(), \n",
    "                            obs=pd.DataFrame(col_subset), \n",
    "                            var=pd.DataFrame(row_subset))\n",
    "    \n",
    "    return adata\n",
    "\n",
    "# from anndata\n",
    "def preprocess_adata(adata, min_cell_sum=1000, min_region_sum=10):\n",
    "    # binarize\n",
    "    sparse_mtx = adata.X\n",
    "    nonzero_mask = np.array(sparse_mtx[sparse_mtx.nonzero()] > 1)[0]\n",
    "    rows = sparse_mtx.nonzero()[0][nonzero_mask]\n",
    "    cols = sparse_mtx.nonzero()[1][nonzero_mask]\n",
    "    sparse_mtx[rows, cols] = 1\n",
    "    adata.x = sparse_mtx\n",
    "    # save some QC\n",
    "    scp.pp.calculate_qc_metrics(adata, inplace=True)\n",
    "    # filter\n",
    "    adata = adata[adata.obs.n_genes_by_counts >= min_cell_sum, :]\n",
    "    adata = adata[:, adata.var.n_cells_by_counts >= min_region_sum]\n",
    "    \n",
    "    return adata"
   ]
  },
  {
   "cell_type": "code",
   "execution_count": 18,
   "metadata": {},
   "outputs": [],
   "source": [
    "def runLSA(sparse_mtx, nPCs, scaleFactor): \n",
    "    #tf = (sparse_mtx.transpose() / sparse_mtx.sum(axis=0)).transpose()\n",
    "    tf = sparse_mtx / sparse_mtx.sum(axis=0)\n",
    "    tf = np.log1p(tf * scaleFactor)\n",
    "    \n",
    "    idf = np.log1p(sparse_mtx.shape[1] / sparse_mtx.sum(axis=1))\n",
    "    tfidf = np.multiply(tf, idf)\n",
    "    svd = TruncatedSVD(n_components=nPCs)\n",
    "    pca = svd.fit(np.nan_to_num(tfidf, nan = 0.0))\n",
    "    \n",
    "    return pca, tfidf\n",
    "\n",
    "## for anndata\n",
    "\n",
    "def lsa_anndata(adata, n_pcs, scale_factor=None):\n",
    "    mtx = sparse.csr_matrix(adata.X)\n",
    "    lsa_out, tfidf = runLSA(mtx.transpose(), n_pcs, scale_factor)\n",
    "\n",
    "    adata.X = np.squeeze(np.asarray(tfidf.transpose()))\n",
    "    adata.obsm['X_pca'] = lsa_out.components_.transpose()\n",
    "    adata.uns['pca_variance'] = lsa_out.explained_variance_\n",
    "    adata.uns['pca_variance_ratio'] = lsa_out.explained_variance_ratio_\n",
    "    adata.layers['raw_counts'] = mtx\n",
    "    \n",
    "    return adata\n"
   ]
  },
  {
   "cell_type": "code",
   "execution_count": 7,
   "metadata": {},
   "outputs": [],
   "source": [
    "def UMAP_clustering(adata):\n",
    "    \n",
    "    # make umap on PCA\n",
    "    lsa_out = adata.obsm['X_pca'].transpose()[1:, :]\n",
    "    reducer = umap.UMAP(n_neighbors=15, min_dist=0.1, spread=1.0, metric='euclidean', init = 'random')\n",
    "    embeddings = reducer.fit_transform(lsa_out.transpose())\n",
    "    adata.obsm['X_umap'] = embeddings\n",
    "    \n",
    "    # louvain (from scanpy)\n",
    "    scp.pp.neighbors(adata)\n",
    "    scp.tl.louvain(adata)\n",
    "    cluster_id = [int(x) for x in adata.obs['louvain'].to_list()]\n",
    "    \n",
    "    # return\n",
    "    return adata\n"
   ]
  },
  {
   "cell_type": "code",
   "execution_count": null,
   "metadata": {},
   "outputs": [],
   "source": [
    "## ESC\n",
    "infolder=\"/hpc/hub_oudenaarden/vbhardwaj/2019_scHiC/04_ESC_NPC/04_workflow_outputs/downstream/ESC_NPC_clustering/scDeepTools_filtered_ESC-NPC_peaks_counts\"\n",
    "mtx, row, col = read_mtx(infolder)\n",
    "esc_adata = preprocess_mtx(mtx, row, col)"
   ]
  },
  {
   "cell_type": "code",
   "execution_count": 9,
   "metadata": {},
   "outputs": [
    {
     "data": {
      "text/plain": [
       "<1171x113748 sparse matrix of type '<class 'numpy.float32'>'\n",
       "\twith 4404275 stored elements in Compressed Sparse Column format>"
      ]
     },
     "execution_count": 9,
     "metadata": {},
     "output_type": "execute_result"
    }
   ],
   "source": [
    "esc_adata.X"
   ]
  },
  {
   "cell_type": "code",
   "execution_count": null,
   "metadata": {},
   "outputs": [],
   "source": [
    "esc_adata = lsa_anndata(esc_adata, n_pcs=5, scale_factor=100000)"
   ]
  },
  {
   "cell_type": "code",
   "execution_count": null,
   "metadata": {
    "scrolled": true
   },
   "outputs": [],
   "source": [
    "esc_adata = UMAP_clustering(esc_adata)"
   ]
  },
  {
   "cell_type": "code",
   "execution_count": 75,
   "metadata": {},
   "outputs": [],
   "source": [
    "esc = esc_adata.layers['raw_counts'].transpose()"
   ]
  },
  {
   "cell_type": "code",
   "execution_count": 83,
   "metadata": {},
   "outputs": [
    {
     "data": {
      "text/plain": [
       "(5, 1171)"
      ]
     },
     "execution_count": 83,
     "metadata": {},
     "output_type": "execute_result"
    }
   ],
   "source": [
    "tfidf_out = tfidf.fit_transform(esc)\n",
    "svd = TruncatedSVD(n_components=5)\n",
    "pca = svd.fit(tfidf_out)\n",
    "pca.components_.shape"
   ]
  },
  {
   "cell_type": "code",
   "execution_count": 84,
   "metadata": {},
   "outputs": [
    {
     "name": "stderr",
     "output_type": "stream",
     "text": [
      "/home/vbhardwaj/programs/miniconda3/lib/python3.7/site-packages/umap/umap_.py:1158: RuntimeWarning: divide by zero encountered in power\n",
      "  return 1.0 / (1.0 + a * x ** (2 * b))\n"
     ]
    },
    {
     "data": {
      "text/plain": [
       "<matplotlib.axes._subplots.AxesSubplot at 0x7fc9ca599a90>"
      ]
     },
     "execution_count": 84,
     "metadata": {},
     "output_type": "execute_result"
    },
    {
     "data": {
      "image/png": "[encoded data removed]",
      "text/plain": [
       "<Figure size 864x864 with 1 Axes>"
      ]
     },
     "metadata": {
      "needs_background": "light"
     },
     "output_type": "display_data"
    }
   ],
   "source": [
    "reducer = umap.UMAP(n_neighbors=15, min_dist=0.01, spread=5.0, metric='euclidean', init = 'random')\n",
    "embeddings = reducer.fit_transform(pca.components_.transpose())\n",
    "df = pd.DataFrame({'UMAP1': embeddings[:, 0],\n",
    "              'UMAP2': embeddings[:, 1]\n",
    "             })\n",
    "df.plot.scatter('UMAP1', 'UMAP2')"
   ]
  },
  {
   "cell_type": "markdown",
   "metadata": {},
   "source": [
    "works for ESC-NPC\n",
    "\n",
    "## Run it on bone marrow"
   ]
  },
  {
   "cell_type": "code",
   "execution_count": 20,
   "metadata": {
    "scrolled": true
   },
   "outputs": [
    {
     "name": "stderr",
     "output_type": "stream",
     "text": [
      "/home/vbhardwaj/programs/miniconda3/lib/python3.7/site-packages/anndata/_core/anndata.py:119: ImplicitModificationWarning: Transforming to str index.\n",
      "  warnings.warn(\"Transforming to str index.\", ImplicitModificationWarning)\n"
     ]
    }
   ],
   "source": [
    "infolder=\"/hpc/hub_oudenaarden/vbhardwaj/2019_scHiC/05_bone_marrow/03_ctcf_k4me3_dChIC_run-1/counts/scDeepTools_filtered_counts_50kWindows\"\n",
    "mtx_bm = read_mtx(infolder)\n",
    "ad_bm_mtx = preprocess_mtx(mtx_bm[0], mtx_bm[1], mtx_bm[2])"
   ]
  },
  {
   "cell_type": "code",
   "execution_count": 21,
   "metadata": {},
   "outputs": [],
   "source": [
    "svd = TruncatedSVD(n_components=30)"
   ]
  },
  {
   "cell_type": "code",
   "execution_count": 25,
   "metadata": {},
   "outputs": [],
   "source": [
    "from sklearn.feature_extraction.text import TfidfTransformer"
   ]
  },
  {
   "cell_type": "code",
   "execution_count": 58,
   "metadata": {},
   "outputs": [],
   "source": [
    "tfidf = TfidfTransformer(use_idf=True, smooth_idf=True, sublinear_tf=False)"
   ]
  },
  {
   "cell_type": "code",
   "execution_count": 77,
   "metadata": {},
   "outputs": [
    {
     "data": {
      "text/plain": [
       "<49883x655 sparse matrix of type '<class 'numpy.float32'>'\n",
       "\twith 4381442 stored elements in Compressed Sparse Row format>"
      ]
     },
     "execution_count": 77,
     "metadata": {},
     "output_type": "execute_result"
    }
   ],
   "source": [
    "ad_bm_mtx.X.transpose()"
   ]
  },
  {
   "cell_type": "code",
   "execution_count": 59,
   "metadata": {},
   "outputs": [],
   "source": [
    "tfidf_out = tfidf.fit_transform(ad_bm_mtx.X.transpose())\n",
    "pca = svd.fit(tfidf_out)\n",
    "pca.components_.shape"
   ]
  },
  {
   "cell_type": "code",
   "execution_count": null,
   "metadata": {},
   "outputs": [],
   "source": [
    "pd.DataFrame(np.array(np.sum(ad_bm_mtx.X.transpose(), axis = 0))[0]).describe()"
   ]
  },
  {
   "cell_type": "markdown",
   "metadata": {},
   "source": [
    "matches the data frame description in R"
   ]
  },
  {
   "cell_type": "code",
   "execution_count": null,
   "metadata": {},
   "outputs": [],
   "source": [
    "## check the same for tfIDF df\n",
    "lsa_out, tfidf_bm = runLSA(ad_bm_mtx.X.transpose(), nPCs = 10, scaleFactor=100000)\n",
    "svd = TruncatedSVD(n_components=30)\n",
    "pca = svd.fit(tfidf_bm.transpose())"
   ]
  },
  {
   "cell_type": "code",
   "execution_count": 70,
   "metadata": {},
   "outputs": [],
   "source": [
    "reducer = umap.UMAP(n_neighbors=15, min_dist=0.01, spread=5.0, metric='euclidean', init = 'random')\n",
    "\n",
    "embeddings = reducer.fit_transform(pca.components_.transpose())\n",
    "\n",
    "df = pd.DataFrame({'UMAP1': embeddings[:, 0],\n",
    "              'UMAP2': embeddings[:, 1]\n",
    "             })"
   ]
  },
  {
   "cell_type": "code",
   "execution_count": 73,
   "metadata": {},
   "outputs": [
    {
     "data": {
      "text/plain": [
       "<matplotlib.axes._subplots.AxesSubplot at 0x7fc9c9ed5dd8>"
      ]
     },
     "execution_count": 73,
     "metadata": {},
     "output_type": "execute_result"
    },
    {
     "data": {
      "image/png": "[encoded data removed]",
      "text/plain": [
       "<Figure size 864x864 with 1 Axes>"
      ]
     },
     "metadata": {
      "needs_background": "light"
     },
     "output_type": "display_data"
    }
   ],
   "source": [
    "df.plot.scatter('UMAP1', 'UMAP2')"
   ]
  },
  {
   "cell_type": "code",
   "execution_count": null,
   "metadata": {},
   "outputs": [],
   "source": []
  },
  {
   "cell_type": "code",
   "execution_count": null,
   "metadata": {},
   "outputs": [],
   "source": [
    "cluster_id = ad_bm_mtx.obs.louvain.to_list()\n",
    "cluster_id = [int(x) for x in cluster_id]\n",
    "embeddings = ad_bm_mtx.obsm['X_umap']\n",
    "\n",
    "df = pd.DataFrame({'Cluster': cluster_id,\n",
    "              'UMAP1': embeddings[:, 0],\n",
    "              'UMAP2': embeddings[:, 1]\n",
    "             })"
   ]
  },
  {
   "cell_type": "code",
   "execution_count": null,
   "metadata": {},
   "outputs": [],
   "source": [
    "df.plot.scatter('UMAP1', 'UMAP2')"
   ]
  },
  {
   "cell_type": "code",
   "execution_count": null,
   "metadata": {},
   "outputs": [],
   "source": [
    "def plotUMAP(embeddings, cluster_id):\n",
    "    plotWidth = 10\n",
    "    plotHeight = 10\n",
    "    plotFile = \"test.png\"\n",
    "    plotFileFormat = 'png'\n",
    "    ## plotting mods\n",
    "    plt.rcParams['font.size'] = 8.0\n",
    "    # convert cm values to inches\n",
    "    fig = plt.figure(figsize=(plotWidth / 2.54, plotHeight / 2.54))\n",
    "    fig.suptitle('LSA-UMAP', y=(1 - (0.06 / plotHeight)))\n",
    "    plt.scatter(\n",
    "        embeddings[:, 0],\n",
    "        embeddings[:, 1],\n",
    "        c=[sns.color_palette()[x] for x in cluster_id])\n",
    "    plt.tight_layout()\n",
    "    plt.savefig(plotFile, dpi=200, format=plotFileFormat)\n",
    "    plt.close()\n",
    "    \n",
    "    return None\n"
   ]
  },
  {
   "cell_type": "markdown",
   "metadata": {},
   "source": [
    "## LSA-clustering from anndata"
   ]
  },
  {
   "cell_type": "code",
   "execution_count": null,
   "metadata": {},
   "outputs": [],
   "source": [
    "ad_bm = anndata.read_h5ad(\"/hpc/hub_oudenaarden/vbhardwaj/2019_scHiC/05_bone_marrow/03_ctcf_k4me3_dChIC_run-1/counts/scDeepTools_filtered_counts_50kWindows.h5ad\")"
   ]
  },
  {
   "cell_type": "code",
   "execution_count": null,
   "metadata": {},
   "outputs": [],
   "source": [
    "ad_bm = preprocess_adata(ad_bm)"
   ]
  },
  {
   "cell_type": "code",
   "execution_count": null,
   "metadata": {},
   "outputs": [],
   "source": [
    "ad_bm = lsa_anndata(ad_bm, 20, 100000)"
   ]
  },
  {
   "cell_type": "code",
   "execution_count": null,
   "metadata": {
    "scrolled": true
   },
   "outputs": [],
   "source": [
    "umap_bm_ad = UMAP_clustering(ad_bm)"
   ]
  },
  {
   "cell_type": "code",
   "execution_count": null,
   "metadata": {},
   "outputs": [],
   "source": [
    "cluster_id = ad_bm.obs.louvain.to_list()\n",
    "cluster_id = [int(x) for x in cluster_id]\n",
    "embeddings = ad_bm.obsm['X_umap']\n",
    "\n",
    "df = pd.DataFrame({'UMAP1': embeddings[:, 0],\n",
    "                  'UMAP2': embeddings[:, 1],\n",
    "                  'Cluster': cluster_id,\n",
    "                 })\n",
    "\n",
    "df.index = ad_bm.obs.index"
   ]
  },
  {
   "cell_type": "code",
   "execution_count": null,
   "metadata": {},
   "outputs": [],
   "source": [
    "ad_bm."
   ]
  },
  {
   "cell_type": "markdown",
   "metadata": {},
   "source": [
    "**Match with R**"
   ]
  },
  {
   "cell_type": "code",
   "execution_count": null,
   "metadata": {},
   "outputs": [],
   "source": []
  },
  {
   "cell_type": "code",
   "execution_count": null,
   "metadata": {},
   "outputs": [],
   "source": [
    "\n"
   ]
  }
 ],
 "metadata": {
  "kernelspec": {
   "display_name": "Python 3",
   "language": "python",
   "name": "python3"
  },
  "language_info": {
   "codemirror_mode": {
    "name": "ipython",
    "version": 3
   },
   "file_extension": ".py",
   "mimetype": "text/x-python",
   "name": "python",
   "nbconvert_exporter": "python",
   "pygments_lexer": "ipython3",
   "version": "3.7.3"
  }
 },
 "nbformat": 4,
 "nbformat_minor": 4
}
