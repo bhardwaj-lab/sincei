{
 "cells": [
  {
   "cell_type": "code",
   "execution_count": 1,
   "metadata": {},
   "outputs": [],
   "source": [
    "# base\n",
    "import scipy as sc\n",
    "from scipy import sparse, io\n",
    "import numpy as np\n",
    "import pandas as pd\n",
    "# plotting\n",
    "import seaborn as sns\n",
    "from matplotlib import pyplot as plt\n",
    "# clustering and umap\n",
    "from sklearn.decomposition import TruncatedSVD\n",
    "from sklearn.cluster import AgglomerativeClustering\n",
    "import umap\n",
    "from itertools import compress"
   ]
  },
  {
   "cell_type": "code",
   "execution_count": 2,
   "metadata": {},
   "outputs": [],
   "source": [
    "import matplotlib\n",
    "matplotlib.rcParams['figure.figsize'] = [12, 12]\n",
    "from pandas.plotting import scatter_matrix"
   ]
  },
  {
   "cell_type": "code",
   "execution_count": 3,
   "metadata": {},
   "outputs": [],
   "source": [
    "import scanpy as scp\n",
    "import anndata"
   ]
  },
  {
   "cell_type": "code",
   "execution_count": 4,
   "metadata": {},
   "outputs": [],
   "source": [
    "def read_mtx(prefix):\n",
    "    mtx = io.mmread(infolder + \".counts.mtx\")\n",
    "    mtx = mtx.tocsr()\n",
    "    with open(infolder + \".colnames.txt\") as col:\n",
    "        colnames = col.read().splitlines()\n",
    "    col.close()\n",
    "    with open(infolder + \".rownames.txt\") as row:\n",
    "        rownames = row.read().splitlines()\n",
    "    row.close()\n",
    "    return mtx, rownames, colnames"
   ]
  },
  {
   "cell_type": "code",
   "execution_count": 5,
   "metadata": {},
   "outputs": [],
   "source": [
    "# from mtx\n",
    "def preprocess_mtx(sparse_mtx, rownames, colnames, min_cell_sum=1000, min_region_sum=10):\n",
    "    ## binarize\n",
    "    nonzero_mask = np.array(sparse_mtx[sparse_mtx.nonzero()] > 1)[0]\n",
    "    rows = sparse_mtx.nonzero()[0][nonzero_mask]\n",
    "    cols = sparse_mtx.nonzero()[1][nonzero_mask]\n",
    "    sparse_mtx[rows, cols] = 1\n",
    "    \n",
    "    ## filter low counts\n",
    "    colmask = np.array(np.sum(sparse_mtx, axis = 0) >= min_cell_sum)[0]\n",
    "    rowmask = np.array(np.sum(sparse_mtx, axis = 1) >= min_region_sum)\n",
    "    rowmask = np.array([x[0] for x in rowmask])\n",
    "    sparse_mtx = sparse_mtx[rowmask, :]\n",
    "    sparse_mtx = sparse_mtx[:, colmask]\n",
    "    \n",
    "    ## create anndata\n",
    "    row_subset = list(compress(rownames, rowmask))\n",
    "    col_subset = list(compress(colnames, colmask))\n",
    "    adata = anndata.AnnData(sparse_mtx.transpose(), \n",
    "                            obs=pd.DataFrame(col_subset), \n",
    "                            var=pd.DataFrame(row_subset))\n",
    "    \n",
    "    return adata\n",
    "\n",
    "# from anndata\n",
    "def preprocess_adata(adata, min_cell_sum=1000, min_region_sum=10):\n",
    "    # binarize\n",
    "    sparse_mtx = adata.X\n",
    "    nonzero_mask = np.array(sparse_mtx[sparse_mtx.nonzero()] > 1)[0]\n",
    "    rows = sparse_mtx.nonzero()[0][nonzero_mask]\n",
    "    cols = sparse_mtx.nonzero()[1][nonzero_mask]\n",
    "    sparse_mtx[rows, cols] = 1\n",
    "    adata.x = sparse_mtx\n",
    "    # save some QC\n",
    "    scp.pp.calculate_qc_metrics(adata, inplace=True)\n",
    "    # filter\n",
    "    adata = adata[adata.obs.n_genes_by_counts >= min_cell_sum, :]\n",
    "    adata = adata[:, adata.var.n_cells_by_counts >= min_region_sum]\n",
    "    \n",
    "    return adata"
   ]
  },
  {
   "cell_type": "code",
   "execution_count": 6,
   "metadata": {},
   "outputs": [],
   "source": [
    "def runLSA(sparse_mtx, nPCs, scaleFactor): \n",
    "    #tf = (sparse_mtx.transpose() / sparse_mtx.sum(axis=0)).transpose()\n",
    "    tf = sparse_mtx / sparse_mtx.sum(axis=0)\n",
    "    tf = np.log1p(tf * scaleFactor)\n",
    "    \n",
    "    idf = np.log1p(sparse_mtx.shape[1] / sparse_mtx.sum(axis=1))\n",
    "    tfidf = np.multiply(tf, idf)\n",
    "    svd = TruncatedSVD(n_components=nPCs)\n",
    "    pca = svd.fit(np.nan_to_num(tfidf, nan = 0.0))\n",
    "    \n",
    "    return pca, tfidf\n",
    "\n",
    "## for anndata\n",
    "\n",
    "def lsa_anndata(adata, n_pcs, scale_factor=None):\n",
    "    mtx = sparse.csr_matrix(adata.X)\n",
    "    lsa_out, tfidf = runLSA(mtx.transpose(), n_pcs, scale_factor)\n",
    "\n",
    "    adata.X = np.squeeze(np.asarray(tfidf.transpose()))\n",
    "    adata.obsm['X_pca'] = lsa_out.components_.transpose()\n",
    "    adata.uns['pca_variance'] = lsa_out.explained_variance_\n",
    "    adata.uns['pca_variance_ratio'] = lsa_out.explained_variance_ratio_\n",
    "    adata.layers['raw_counts'] = mtx\n",
    "    \n",
    "    return adata\n"
   ]
  },
  {
   "cell_type": "code",
   "execution_count": 15,
   "metadata": {},
   "outputs": [],
   "source": [
    "def UMAP_clustering(adata):\n",
    "    \n",
    "    # make umap on PCA\n",
    "    lsa_out = adata.obsm['X_pca'].transpose()[1:, :]\n",
    "    reducer = umap.UMAP(n_neighbors=15, min_dist=0.1, spread=1.0, metric='euclidean', init = 'random')\n",
    "    embeddings = reducer.fit_transform(lsa_out.transpose())\n",
    "    adata.obsm['X_umap'] = embeddings\n",
    "    \n",
    "    # louvain (from scanpy)\n",
    "    scp.pp.neighbors(adata)\n",
    "    scp.tl.louvain(adata)\n",
    "    cluster_id = [int(x) for x in adata.obs['louvain'].to_list()]\n",
    "    \n",
    "    # return\n",
    "    return adata\n"
   ]
  },
  {
   "cell_type": "code",
   "execution_count": null,
   "metadata": {},
   "outputs": [],
   "source": []
  },
  {
   "cell_type": "code",
   "execution_count": null,
   "metadata": {},
   "outputs": [],
   "source": [
    "## ESC\n",
    "infolder=\"/hpc/hub_oudenaarden/vbhardwaj/2019_scHiC/04_ESC_NPC/04_workflow_outputs/downstream/ESC_NPC_clustering/scDeepTools_filtered_ESC-NPC_peaks_counts\"\n",
    "mtx, row, col = read_mtx(infolder)\n",
    "esc_adata = preprocess_mtx(mtx, row, col)"
   ]
  },
  {
   "cell_type": "code",
   "execution_count": null,
   "metadata": {},
   "outputs": [],
   "source": []
  },
  {
   "cell_type": "markdown",
   "metadata": {},
   "source": [
    "works for ESC-NPC\n",
    "\n",
    "## Run it on bone marrow"
   ]
  },
  {
   "cell_type": "code",
   "execution_count": 28,
   "metadata": {},
   "outputs": [
    {
     "name": "stderr",
     "output_type": "stream",
     "text": [
      "/home/vbhardwaj/programs/miniconda3/lib/python3.7/site-packages/anndata/_core/anndata.py:119: ImplicitModificationWarning: Transforming to str index.\n",
      "  warnings.warn(\"Transforming to str index.\", ImplicitModificationWarning)\n"
     ]
    }
   ],
   "source": [
    "infolder=\"/hpc/hub_oudenaarden/vbhardwaj/2019_scHiC/05_bone_marrow/03_ctcf_k4me3_dChIC_run-1/counts/scDeepTools_filtered_counts_50kWindows\"\n",
    "mtx_bm = read_mtx(infolder)\n",
    "ad_bm_mtx = preprocess_mtx(mtx_bm[0], mtx_bm[1], mtx_bm[2])"
   ]
  },
  {
   "cell_type": "code",
   "execution_count": 29,
   "metadata": {},
   "outputs": [
    {
     "data": {
      "text/html": [
       "<div>\n",
       "<style scoped>\n",
       "    .dataframe tbody tr th:only-of-type {\n",
       "        vertical-align: middle;\n",
       "    }\n",
       "\n",
       "    .dataframe tbody tr th {\n",
       "        vertical-align: top;\n",
       "    }\n",
       "\n",
       "    .dataframe thead th {\n",
       "        text-align: right;\n",
       "    }\n",
       "</style>\n",
       "<table border=\"1\" class=\"dataframe\">\n",
       "  <thead>\n",
       "    <tr style=\"text-align: right;\">\n",
       "      <th></th>\n",
       "      <th>0</th>\n",
       "    </tr>\n",
       "  </thead>\n",
       "  <tbody>\n",
       "    <tr>\n",
       "      <td>count</td>\n",
       "      <td>649.000000</td>\n",
       "    </tr>\n",
       "    <tr>\n",
       "      <td>mean</td>\n",
       "      <td>6468.325195</td>\n",
       "    </tr>\n",
       "    <tr>\n",
       "      <td>std</td>\n",
       "      <td>3608.010010</td>\n",
       "    </tr>\n",
       "    <tr>\n",
       "      <td>min</td>\n",
       "      <td>1034.000000</td>\n",
       "    </tr>\n",
       "    <tr>\n",
       "      <td>25%</td>\n",
       "      <td>3636.000000</td>\n",
       "    </tr>\n",
       "    <tr>\n",
       "      <td>50%</td>\n",
       "      <td>5947.000000</td>\n",
       "    </tr>\n",
       "    <tr>\n",
       "      <td>75%</td>\n",
       "      <td>8511.000000</td>\n",
       "    </tr>\n",
       "    <tr>\n",
       "      <td>max</td>\n",
       "      <td>18895.000000</td>\n",
       "    </tr>\n",
       "  </tbody>\n",
       "</table>\n",
       "</div>"
      ],
      "text/plain": [
       "                  0\n",
       "count    649.000000\n",
       "mean    6468.325195\n",
       "std     3608.010010\n",
       "min     1034.000000\n",
       "25%     3636.000000\n",
       "50%     5947.000000\n",
       "75%     8511.000000\n",
       "max    18895.000000"
      ]
     },
     "execution_count": 29,
     "metadata": {},
     "output_type": "execute_result"
    }
   ],
   "source": [
    "pd.DataFrame(np.array(np.sum(ad_bm_mtx.X.transpose(), axis = 0))[0]).describe()"
   ]
  },
  {
   "cell_type": "markdown",
   "metadata": {},
   "source": [
    "matches the data frame description in R"
   ]
  },
  {
   "cell_type": "code",
   "execution_count": 30,
   "metadata": {},
   "outputs": [],
   "source": [
    "## check the same for tfIDF df\n",
    "lsa_out, tfidf_bm = runLSA(ad_bm_mtx.X.transpose(), nPCs = 10, scaleFactor=100000)"
   ]
  },
  {
   "cell_type": "code",
   "execution_count": 31,
   "metadata": {},
   "outputs": [
    {
     "data": {
      "text/html": [
       "<div>\n",
       "<style scoped>\n",
       "    .dataframe tbody tr th:only-of-type {\n",
       "        vertical-align: middle;\n",
       "    }\n",
       "\n",
       "    .dataframe tbody tr th {\n",
       "        vertical-align: top;\n",
       "    }\n",
       "\n",
       "    .dataframe thead th {\n",
       "        text-align: right;\n",
       "    }\n",
       "</style>\n",
       "<table border=\"1\" class=\"dataframe\">\n",
       "  <thead>\n",
       "    <tr style=\"text-align: right;\">\n",
       "      <th></th>\n",
       "      <th>0</th>\n",
       "    </tr>\n",
       "  </thead>\n",
       "  <tbody>\n",
       "    <tr>\n",
       "      <td>count</td>\n",
       "      <td>649.000000</td>\n",
       "    </tr>\n",
       "    <tr>\n",
       "      <td>mean</td>\n",
       "      <td>32207.909679</td>\n",
       "    </tr>\n",
       "    <tr>\n",
       "      <td>std</td>\n",
       "      <td>13130.870718</td>\n",
       "    </tr>\n",
       "    <tr>\n",
       "      <td>min</td>\n",
       "      <td>8278.389670</td>\n",
       "    </tr>\n",
       "    <tr>\n",
       "      <td>25%</td>\n",
       "      <td>22171.198522</td>\n",
       "    </tr>\n",
       "    <tr>\n",
       "      <td>50%</td>\n",
       "      <td>30921.609861</td>\n",
       "    </tr>\n",
       "    <tr>\n",
       "      <td>75%</td>\n",
       "      <td>40584.246169</td>\n",
       "    </tr>\n",
       "    <tr>\n",
       "      <td>max</td>\n",
       "      <td>72222.733708</td>\n",
       "    </tr>\n",
       "  </tbody>\n",
       "</table>\n",
       "</div>"
      ],
      "text/plain": [
       "                  0\n",
       "count    649.000000\n",
       "mean   32207.909679\n",
       "std    13130.870718\n",
       "min     8278.389670\n",
       "25%    22171.198522\n",
       "50%    30921.609861\n",
       "75%    40584.246169\n",
       "max    72222.733708"
      ]
     },
     "execution_count": 31,
     "metadata": {},
     "output_type": "execute_result"
    }
   ],
   "source": [
    "pd.DataFrame(np.array(np.sum(tfidf_bm, axis = 0))[0]).describe()"
   ]
  },
  {
   "cell_type": "markdown",
   "metadata": {},
   "source": [
    "Match!"
   ]
  },
  {
   "cell_type": "code",
   "execution_count": 32,
   "metadata": {},
   "outputs": [],
   "source": [
    "ad_bm_mtx = lsa_anndata(ad_bm_mtx, n_pcs=30, scale_factor=100000)"
   ]
  },
  {
   "cell_type": "code",
   "execution_count": 33,
   "metadata": {},
   "outputs": [
    {
     "data": {
      "text/plain": [
       "AnnData object with n_obs × n_vars = 649 × 49801\n",
       "    obs: 0\n",
       "    var: 0\n",
       "    uns: 'pca_variance', 'pca_variance_ratio'\n",
       "    obsm: 'X_pca'\n",
       "    layers: 'raw_counts'"
      ]
     },
     "execution_count": 33,
     "metadata": {},
     "output_type": "execute_result"
    }
   ],
   "source": [
    "ad_bm_mtx"
   ]
  },
  {
   "cell_type": "code",
   "execution_count": 34,
   "metadata": {},
   "outputs": [
    {
     "name": "stderr",
     "output_type": "stream",
     "text": [
      "/home/vbhardwaj/programs/miniconda3/lib/python3.7/site-packages/scanpy/neighbors/__init__.py:121: FutureWarning: This location for 'distances' is deprecated. It has been moved to .obsp[distances], and will not be accesible here in a future version of anndata.\n",
      "  adata.uns['neighbors']['distances'] = neighbors.distances\n",
      "/home/vbhardwaj/programs/miniconda3/lib/python3.7/site-packages/scanpy/neighbors/__init__.py:122: FutureWarning: This location for 'connectivities' is deprecated. It has been moved to .obsp[connectivities], and will not be accesible here in a future version of anndata.\n",
      "  adata.uns['neighbors']['connectivities'] = neighbors.connectivities\n",
      "/home/vbhardwaj/programs/miniconda3/lib/python3.7/site-packages/scanpy/tools/_louvain.py:107: FutureWarning: This location for 'connectivities' is deprecated. It has been moved to .obsp[connectivities], and will not be accesible here in a future version of anndata.\n",
      "  adjacency = adata.uns['neighbors']['connectivities']\n"
     ]
    }
   ],
   "source": [
    "ad_bm_mtx = UMAP_clustering(ad_bm_mtx)"
   ]
  },
  {
   "cell_type": "code",
   "execution_count": 35,
   "metadata": {},
   "outputs": [],
   "source": [
    "cluster_id = ad_bm_mtx.obs.louvain.to_list()\n",
    "cluster_id = [int(x) for x in cluster_id]\n",
    "embeddings = ad_bm_mtx.obsm['X_umap']\n",
    "\n",
    "df = pd.DataFrame({'Cluster': cluster_id,\n",
    "              'UMAP1': embeddings[:, 0],\n",
    "              'UMAP2': embeddings[:, 1]\n",
    "             })"
   ]
  },
  {
   "cell_type": "code",
   "execution_count": null,
   "metadata": {},
   "outputs": [],
   "source": [
    "df.index = ad_bm"
   ]
  },
  {
   "cell_type": "code",
   "execution_count": 36,
   "metadata": {},
   "outputs": [],
   "source": [
    "def plotUMAP(embeddings, cluster_id):\n",
    "    plotWidth = 10\n",
    "    plotHeight = 10\n",
    "    plotFile = \"test.png\"\n",
    "    plotFileFormat = 'png'\n",
    "    ## plotting mods\n",
    "    plt.rcParams['font.size'] = 8.0\n",
    "    # convert cm values to inches\n",
    "    fig = plt.figure(figsize=(plotWidth / 2.54, plotHeight / 2.54))\n",
    "    fig.suptitle('LSA-UMAP', y=(1 - (0.06 / plotHeight)))\n",
    "    plt.scatter(\n",
    "        embeddings[:, 0],\n",
    "        embeddings[:, 1],\n",
    "        c=[sns.color_palette()[x] for x in cluster_id])\n",
    "    plt.tight_layout()\n",
    "    plt.savefig(plotFile, dpi=200, format=plotFileFormat)\n",
    "    plt.close()\n",
    "    \n",
    "    return None\n"
   ]
  },
  {
   "cell_type": "markdown",
   "metadata": {},
   "source": [
    "## LSA-clustering from anndata"
   ]
  },
  {
   "cell_type": "code",
   "execution_count": 45,
   "metadata": {},
   "outputs": [],
   "source": [
    "ad_bm = anndata.read_h5ad(\"/hpc/hub_oudenaarden/vbhardwaj/2019_scHiC/05_bone_marrow/03_ctcf_k4me3_dChIC_run-1/counts/scDeepTools_filtered_counts_50kWindows.h5ad\")"
   ]
  },
  {
   "cell_type": "code",
   "execution_count": 46,
   "metadata": {},
   "outputs": [],
   "source": [
    "ad_bm = preprocess_adata(ad_bm)"
   ]
  },
  {
   "cell_type": "code",
   "execution_count": 47,
   "metadata": {},
   "outputs": [],
   "source": [
    "ad_bm = lsa_anndata(ad_bm, 20, 100000)"
   ]
  },
  {
   "cell_type": "code",
   "execution_count": 49,
   "metadata": {
    "scrolled": true
   },
   "outputs": [
    {
     "name": "stderr",
     "output_type": "stream",
     "text": [
      "/home/vbhardwaj/programs/miniconda3/lib/python3.7/site-packages/scanpy/neighbors/__init__.py:121: FutureWarning: This location for 'distances' is deprecated. It has been moved to .obsp[distances], and will not be accesible here in a future version of anndata.\n",
      "  adata.uns['neighbors']['distances'] = neighbors.distances\n",
      "/home/vbhardwaj/programs/miniconda3/lib/python3.7/site-packages/scanpy/neighbors/__init__.py:122: FutureWarning: This location for 'connectivities' is deprecated. It has been moved to .obsp[connectivities], and will not be accesible here in a future version of anndata.\n",
      "  adata.uns['neighbors']['connectivities'] = neighbors.connectivities\n",
      "/home/vbhardwaj/programs/miniconda3/lib/python3.7/site-packages/scanpy/tools/_louvain.py:107: FutureWarning: This location for 'connectivities' is deprecated. It has been moved to .obsp[connectivities], and will not be accesible here in a future version of anndata.\n",
      "  adjacency = adata.uns['neighbors']['connectivities']\n"
     ]
    }
   ],
   "source": [
    "umap_bm_ad = UMAP_clustering(ad_bm)"
   ]
  },
  {
   "cell_type": "code",
   "execution_count": 55,
   "metadata": {},
   "outputs": [],
   "source": [
    "cluster_id = ad_bm.obs.louvain.to_list()\n",
    "cluster_id = [int(x) for x in cluster_id]\n",
    "embeddings = ad_bm.obsm['X_umap']\n",
    "\n",
    "df = pd.DataFrame({'UMAP1': embeddings[:, 0],\n",
    "                  'UMAP2': embeddings[:, 1],\n",
    "                  'Cluster': cluster_id,\n",
    "                 })\n",
    "\n",
    "df.index = ad_bm.obs.index"
   ]
  },
  {
   "cell_type": "code",
   "execution_count": 56,
   "metadata": {},
   "outputs": [
    {
     "data": {
      "text/html": [
       "<div>\n",
       "<style scoped>\n",
       "    .dataframe tbody tr th:only-of-type {\n",
       "        vertical-align: middle;\n",
       "    }\n",
       "\n",
       "    .dataframe tbody tr th {\n",
       "        vertical-align: top;\n",
       "    }\n",
       "\n",
       "    .dataframe thead th {\n",
       "        text-align: right;\n",
       "    }\n",
       "</style>\n",
       "<table border=\"1\" class=\"dataframe\">\n",
       "  <thead>\n",
       "    <tr style=\"text-align: right;\">\n",
       "      <th></th>\n",
       "      <th>UMAP1</th>\n",
       "      <th>UMAP2</th>\n",
       "      <th>Cluster</th>\n",
       "    </tr>\n",
       "    <tr>\n",
       "      <th>index</th>\n",
       "      <th></th>\n",
       "      <th></th>\n",
       "      <th></th>\n",
       "    </tr>\n",
       "  </thead>\n",
       "  <tbody>\n",
       "    <tr>\n",
       "      <td>i1_ACACACTA</td>\n",
       "      <td>6.225847</td>\n",
       "      <td>-3.453841</td>\n",
       "      <td>0</td>\n",
       "    </tr>\n",
       "    <tr>\n",
       "      <td>i1_ACACATAG</td>\n",
       "      <td>6.743467</td>\n",
       "      <td>-3.158327</td>\n",
       "      <td>0</td>\n",
       "    </tr>\n",
       "    <tr>\n",
       "      <td>i1_ACACTGAT</td>\n",
       "      <td>6.492131</td>\n",
       "      <td>-3.022453</td>\n",
       "      <td>0</td>\n",
       "    </tr>\n",
       "    <tr>\n",
       "      <td>i1_ACAGTACG</td>\n",
       "      <td>8.007348</td>\n",
       "      <td>-2.739637</td>\n",
       "      <td>0</td>\n",
       "    </tr>\n",
       "    <tr>\n",
       "      <td>i1_ACATCACA</td>\n",
       "      <td>6.822153</td>\n",
       "      <td>0.185938</td>\n",
       "      <td>2</td>\n",
       "    </tr>\n",
       "    <tr>\n",
       "      <td>...</td>\n",
       "      <td>...</td>\n",
       "      <td>...</td>\n",
       "      <td>...</td>\n",
       "    </tr>\n",
       "    <tr>\n",
       "      <td>i2_CGCGGTGG</td>\n",
       "      <td>6.919651</td>\n",
       "      <td>-2.140476</td>\n",
       "      <td>0</td>\n",
       "    </tr>\n",
       "    <tr>\n",
       "      <td>i2_GGTCCGTA</td>\n",
       "      <td>8.103642</td>\n",
       "      <td>-2.315047</td>\n",
       "      <td>0</td>\n",
       "    </tr>\n",
       "    <tr>\n",
       "      <td>i2_AGGTCACC</td>\n",
       "      <td>8.518637</td>\n",
       "      <td>-0.693374</td>\n",
       "      <td>4</td>\n",
       "    </tr>\n",
       "    <tr>\n",
       "      <td>i2_GAACGCAA</td>\n",
       "      <td>8.417742</td>\n",
       "      <td>-1.313372</td>\n",
       "      <td>4</td>\n",
       "    </tr>\n",
       "    <tr>\n",
       "      <td>i2_CTGGAACA</td>\n",
       "      <td>9.008995</td>\n",
       "      <td>-1.815842</td>\n",
       "      <td>0</td>\n",
       "    </tr>\n",
       "  </tbody>\n",
       "</table>\n",
       "<p>649 rows × 3 columns</p>\n",
       "</div>"
      ],
      "text/plain": [
       "                UMAP1     UMAP2  Cluster\n",
       "index                                   \n",
       "i1_ACACACTA  6.225847 -3.453841        0\n",
       "i1_ACACATAG  6.743467 -3.158327        0\n",
       "i1_ACACTGAT  6.492131 -3.022453        0\n",
       "i1_ACAGTACG  8.007348 -2.739637        0\n",
       "i1_ACATCACA  6.822153  0.185938        2\n",
       "...               ...       ...      ...\n",
       "i2_CGCGGTGG  6.919651 -2.140476        0\n",
       "i2_GGTCCGTA  8.103642 -2.315047        0\n",
       "i2_AGGTCACC  8.518637 -0.693374        4\n",
       "i2_GAACGCAA  8.417742 -1.313372        4\n",
       "i2_CTGGAACA  9.008995 -1.815842        0\n",
       "\n",
       "[649 rows x 3 columns]"
      ]
     },
     "execution_count": 56,
     "metadata": {},
     "output_type": "execute_result"
    }
   ],
   "source": [
    "df"
   ]
  },
  {
   "cell_type": "markdown",
   "metadata": {},
   "source": [
    "**Match with R**"
   ]
  },
  {
   "cell_type": "code",
   "execution_count": null,
   "metadata": {},
   "outputs": [],
   "source": [
    "mtx = pd.DataFrame(ad_bm.X.transpose())"
   ]
  },
  {
   "cell_type": "code",
   "execution_count": null,
   "metadata": {},
   "outputs": [],
   "source": [
    "mtx_original = pd.DataFrame.sparse.from_spmatrix(ad_bm.layers['raw_counts'].transpose())"
   ]
  },
  {
   "cell_type": "code",
   "execution_count": null,
   "metadata": {},
   "outputs": [],
   "source": [
    "mtx_original.sum(axis=0).describe()"
   ]
  },
  {
   "cell_type": "code",
   "execution_count": null,
   "metadata": {},
   "outputs": [],
   "source": [
    "mtx.sum(axis = 0).describe()"
   ]
  },
  {
   "cell_type": "code",
   "execution_count": null,
   "metadata": {},
   "outputs": [],
   "source": [
    "ad_bm = UMAP_clustering(ad_bm)"
   ]
  },
  {
   "cell_type": "code",
   "execution_count": null,
   "metadata": {},
   "outputs": [],
   "source": [
    "ad_bm[0].obsm['X_umap']"
   ]
  },
  {
   "cell_type": "code",
   "execution_count": null,
   "metadata": {},
   "outputs": [],
   "source": [
    "## umap and louvain using scanpy\n",
    "scp.pp.neighbors(ad_bm)\n",
    "scp.tl.umap(ad_bm)\n",
    "scp.tl.louvain(ad_bm)\n",
    "scp.pl.umap(ad_bm, color='louvain')\n",
    "## not so great output"
   ]
  },
  {
   "cell_type": "code",
   "execution_count": null,
   "metadata": {},
   "outputs": [],
   "source": []
  },
  {
   "cell_type": "code",
   "execution_count": null,
   "metadata": {},
   "outputs": [],
   "source": [
    "\n"
   ]
  }
 ],
 "metadata": {
  "kernelspec": {
   "display_name": "Python 3",
   "language": "python",
   "name": "python3"
  },
  "language_info": {
   "codemirror_mode": {
    "name": "ipython",
    "version": 3
   },
   "file_extension": ".py",
   "mimetype": "text/x-python",
   "name": "python",
   "nbconvert_exporter": "python",
   "pygments_lexer": "ipython3",
   "version": "3.7.3"
  }
 },
 "nbformat": 4,
 "nbformat_minor": 4
}
