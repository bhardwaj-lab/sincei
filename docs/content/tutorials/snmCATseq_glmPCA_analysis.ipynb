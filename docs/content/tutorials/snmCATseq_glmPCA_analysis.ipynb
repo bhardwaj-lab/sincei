{
 "cells": [
  {
   "cell_type": "markdown",
   "id": "ee0fddbe-1c52-44c1-b2bc-b3f4165209cf",
   "metadata": {},
   "source": [
    "# GLM-PCA analysis of single-cell methylome data\n",
    "\n",
    "\n",
    "\n",
    "Starting from the publicly available single-cell methylation data from [snmCATseq](https://www.sciencedirect.com/science/article/pii/S2666979X22000271?via%3Dihub) , we re-processed a subset of the data to extract methlated/unmethylated reads in small genomics bins (10kb), yielding non-Gaussian data. \n",
    "\n",
    "\n",
    "The data is losely following a Beta distribution, and we thus employ GLM-PCA with Beta distribution to find a lower-dimension representation.\n"
   ]
  },
  {
   "cell_type": "code",
   "execution_count": null,
   "id": "487f311a-b03e-4998-9d61-53341a7f63ae",
   "metadata": {
    "scrolled": true,
    "tags": []
   },
   "outputs": [],
   "source": [
    "import os, scipy, tqdm, umap\n",
    "import torch\n",
    "import numpy as np\n",
    "import pandas as pd\n",
    "import seaborn as sns\n",
    "import matplotlib.pyplot as plt\n",
    "from sklearn.decomposition import PCA\n",
    "\n",
    "from sincei.GLMPCA import GLMPCA\n",
    "\n",
    "data_type = 'GCYN'"
   ]
  },
  {
   "cell_type": "markdown",
   "id": "f3dce2ad-6d20-4e32-b09d-e614281f1666",
   "metadata": {},
   "source": [
    "## Read data\n",
    "\n",
    "\n",
    "Starting from the files provided in our figshare repository, the data needs to be first processed as demonstrated in \"snmCATseq_prepcessing.ipynb\". We here load the output.\n",
    "\n",
    "In order to confirm whether glmPCA results help in identifying clusters of cells, we shall also load the celltype metadata provided in the Supplementary table 5 of the original manuscript.\n"
   ]
  },
  {
   "cell_type": "code",
   "execution_count": null,
   "id": "6457d315-2dcd-48ee-8a4e-6d40e00c38f4",
   "metadata": {},
   "outputs": [],
   "source": [
    "# methylation (number of methylated covered)\n",
    "df_cov = pd.read_pickle(\n",
    "    './snmC2Tseq_eckerlab/10k_bin/processed_data_%s_2023_09_24.pkl'%(data_type),\n",
    ")\n",
    "\n",
    "X_data = df_cov.values\n",
    "X_data = X_data[:,np.where(np.std(X_data, axis=0)>0.08)[0]] # Previously 0.08"
   ]
  },
  {
   "cell_type": "code",
   "execution_count": null,
   "id": "a7ff42ac-1046-4e04-b6cb-56441fded6ad",
   "metadata": {},
   "outputs": [],
   "source": [
    "# Metadata from the paper\n",
    "metadata_df = pd.read_excel('./snmC2Tseq_eckerlab/mmc5.xlsx', sheet_name=1, header=1)\n",
    "\n",
    "# Structure metadata\n",
    "metadata_df['sample_idx'] = metadata_df['Sample'].apply(lambda x: '_'.join(x.split('_')[1:11]))\n",
    "metadata_df = metadata_df.set_index('sample_idx')\n",
    "\n",
    "X_data_index = ['_'.join(e.split('/')[-1].split('.')[0].split('_')[3:13]) for e in  df_cov.loc[data_type].index]\n",
    "cell_labels = metadata_df.loc[X_data_index]"
   ]
  },
  {
   "cell_type": "markdown",
   "id": "db4535f5-81e2-49c8-9cdd-e3a91261cd4e",
   "metadata": {},
   "source": [
    "## Sincei: GLM-PCA\n",
    "\n",
    "To aid in this analysis, we provide two Beta families within the glmPCA framework: **Beta** and **SigmoidBeta**. \n",
    "\n",
    "SigmoidBeta employs a logit-transformed saturated parameters, which removes all optimisation constraints and is therefore much more stable.\n",
    "\n",
    "\n",
    "Several hyper-parameters are hard-coded, but do not vastly influence the analysis. The only hyper-parameter which can change results fondamentally is the learning rate. 2.5 is a good choice for sigmoid_beta, but this needs to be changed for other distributions."
   ]
  },
  {
   "cell_type": "code",
   "execution_count": null,
   "id": "a023f8e1-d615-46c9-a6f0-a8a1dcc55257",
   "metadata": {},
   "outputs": [],
   "source": [
    "eps = 1e-5\n",
    "n_pc = 20\n",
    "family = 'sigmoid_beta'\n",
    "\n",
    "clf = GLMPCA(\n",
    "    n_pc=n_pc, \n",
    "    family=family, \n",
    "    n_jobs=5, \n",
    "    max_iter=500,\n",
    "    learning_rate=10., \n",
    ")"
   ]
  },
  {
   "cell_type": "code",
   "execution_count": null,
   "id": "47886c76-dd04-496b-b9aa-d78fce2ce9d9",
   "metadata": {
    "scrolled": true,
    "tags": []
   },
   "outputs": [],
   "source": [
    "# Imputes zeros\n",
    "X_glm_data = X_data.copy()\n",
    "for idx in tqdm.tqdm(range(X_data.shape[1])):\n",
    "    non_zero_mean = X_glm_data[X_glm_data[:,idx] != 0,idx].mean()\n",
    "    X_glm_data[X_glm_data[:,idx] == 0,idx] = non_zero_mean\n",
    "\n",
    "clf.fit(torch.Tensor(X_glm_data))"
   ]
  },
  {
   "cell_type": "code",
   "execution_count": null,
   "id": "b4c81a57-ace2-464c-8f87-df2c2aa80247",
   "metadata": {
    "scrolled": true,
    "tags": []
   },
   "outputs": [],
   "source": [
    "# Learning curves: needs to reach a plateau.\n",
    "plt.plot(np.array(clf.loadings_learning_scores_).T, '+')\n",
    "plt.ylabel('Training loss')"
   ]
  },
  {
   "cell_type": "code",
   "execution_count": null,
   "id": "52d5f6ce-6a79-461c-960d-0cd216728035",
   "metadata": {
    "scrolled": true,
    "tags": []
   },
   "outputs": [],
   "source": [
    "X_project = clf.transform(torch.Tensor(X_glm_data))"
   ]
  },
  {
   "cell_type": "markdown",
   "id": "97f7a06c-2fca-436a-b69e-cd25430e0b81",
   "metadata": {},
   "source": [
    "### UMAP on GLM-PCA"
   ]
  },
  {
   "cell_type": "code",
   "execution_count": null,
   "id": "63539801-37f1-4736-b789-4ae574deacd0",
   "metadata": {
    "tags": []
   },
   "outputs": [],
   "source": [
    "_umap_params = {'n_neighbors':15, 'min_dist': 0.3, 'n_epochs': 1000}\n",
    "\n",
    "metric = 'cosine'\n",
    "\n",
    "_umap_clf = umap.UMAP(metric=metric, verbose=True, **_umap_params)\n",
    "umap_embeddings = pd.DataFrame(\n",
    "    _umap_clf.fit_transform(X_project.detach().numpy()), \n",
    "    columns=['UMAP 1', 'UMAP 2']\n",
    ").reset_index()\n",
    "umap_embeddings['label'] = cell_labels['snmCAT-seq Baseline Cluster'].values\n",
    "\n",
    "g = sns.relplot(data=umap_embeddings, x='UMAP 1', y='UMAP 2',hue='label')\n",
    "figure_name = 'UMAP_glm_pca_%s_metric_%s_%s%s'%(\n",
    "    n_pc, \n",
    "    metric,\n",
    "    family\n",
    ")"
   ]
  },
  {
   "cell_type": "markdown",
   "id": "0719b45c-5368-4557-b659-1ebc8ff4efc7",
   "metadata": {},
   "source": [
    "## Compare to regular SVD-based PCA."
   ]
  },
  {
   "cell_type": "code",
   "execution_count": null,
   "id": "8ee85f64-f3bd-478f-81ed-2d5bb135cb3f",
   "metadata": {},
   "outputs": [],
   "source": [
    "pca_clf = PCA(n_pc).fit(X_data)\n",
    "X_pca = pca_clf.transform(X_data)"
   ]
  },
  {
   "cell_type": "code",
   "execution_count": null,
   "id": "3b2f5efb-a47f-4343-bf66-1487239ad66a",
   "metadata": {
    "tags": []
   },
   "outputs": [],
   "source": [
    "_umap_params = {'n_neighbors':15, 'min_dist': 0.3, 'n_epochs': 1000}\n",
    "\n",
    "metric = 'cosine'\n",
    "_umap_clf = umap.UMAP(metric=metric, verbose=True, **_umap_params)\n",
    "umap_embeddings = pd.DataFrame(\n",
    "    _umap_clf.fit_transform(X_pca), \n",
    "    columns=['UMAP 1', 'UMAP 2']\n",
    ").reset_index()\n",
    "umap_embeddings['label'] = cell_labels['snmC2T-seq Baseline Cluster'].values\n",
    "\n",
    "g = sns.relplot(data=umap_embeddings, x='UMAP 1', y='UMAP 2',hue='label')"
   ]
  },
  {
   "cell_type": "markdown",
   "id": "492cd438-d60c-47b0-8cbe-c79a1f83bca7",
   "metadata": {},
   "source": [
    "## Compare directions found by GLM-PCA and regular PCA\n",
    "### Cosine similarity"
   ]
  },
  {
   "cell_type": "code",
   "execution_count": null,
   "id": "5aefdbf3-6d97-4f39-899e-54d56a9065d7",
   "metadata": {
    "scrolled": true,
    "tags": []
   },
   "outputs": [],
   "source": [
    "M = clf.saturated_loadings_.detach().numpy().T.dot(pca_clf.components_.T)\n",
    "sns.heatmap(M, cmap='seismic_r', center=0, vmax=1, vmin=-1)\n",
    "plt.ylabel('PCA (Beta)', fontsize=20)\n",
    "plt.xlabel('Standard PCA', fontsize=20)\n",
    "plt.tight_layout()\n",
    "plt.show()\n",
    "\n",
    "plt.plot(np.linalg.svd(M)[1])\n",
    "plt.tight_layout()\n",
    "plt.show()"
   ]
  }
 ],
 "metadata": {
  "kernelspec": {
   "display_name": "Python 3 (ipykernel)",
   "language": "python",
   "name": "python3"
  },
  "language_info": {
   "codemirror_mode": {
    "name": "ipython",
    "version": 3
   },
   "file_extension": ".py",
   "mimetype": "text/x-python",
   "name": "python",
   "nbconvert_exporter": "python",
   "pygments_lexer": "ipython3",
   "version": "3.8.16"
  }
 },
 "nbformat": 4,
 "nbformat_minor": 5
}
