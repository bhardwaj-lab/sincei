{
 "cells": [
  {
   "cell_type": "code",
   "execution_count": 1,
   "metadata": {},
   "outputs": [],
   "source": [
    "import shutil\n",
    "import os\n",
    "import time\n",
    "import sys\n",
    "import multiprocessing\n",
    "import numpy as np\n",
    "import pandas as pd\n",
    "\n",
    "# deepTools packages\n",
    "import deeptools.utilities\n",
    "from deeptools import bamHandler\n",
    "from deeptools import mapReduce\n",
    "from deeptoolsintervals import GTF\n",
    "import pyBigWig\n",
    "\n",
    "debug = 0\n",
    "old_settings = np.seterr(all='ignore')"
   ]
  },
  {
   "cell_type": "markdown",
   "metadata": {},
   "source": [
    "## Goal\n",
    "\n",
    "**Modify countReadsPerBin such that it takes the barcode (list) argument and returns an np.array of shape (bins, barcodes\\*len(bam))**"
   ]
  },
  {
   "cell_type": "code",
   "execution_count": 2,
   "metadata": {},
   "outputs": [],
   "source": [
    "sys.path.append(\".\")"
   ]
  },
  {
   "cell_type": "code",
   "execution_count": 3,
   "metadata": {},
   "outputs": [],
   "source": [
    "import scReadCounter as countR"
   ]
  },
  {
   "cell_type": "code",
   "execution_count": 4,
   "metadata": {},
   "outputs": [],
   "source": [
    "bamfiles = [ '/hpc/hub_oudenaarden/vbhardwaj/2019_scHiC/04_ESC_NPC/04_workflow_outputs/fESC_CTCF-K4me3_26-02-2020/dedup_bam/HVG-ChIC-fESC-CTCF-i1-26-02-20.bam',\n",
    "             '/hpc/hub_oudenaarden/vbhardwaj/2019_scHiC/04_ESC_NPC/04_workflow_outputs/fESC_CTCF-K4me3_26-02-2020/dedup_bam/HVG-ChIC-fESC-CTCF-i2-26-02-20.bam',\n",
    "             '/hpc/hub_oudenaarden/vbhardwaj/2019_scHiC/04_ESC_NPC/04_workflow_outputs/fESC_CTCF-K4me3_26-02-2020/dedup_bam/HVG-ChIC-fESC-CTCF-i3-26-02-20.bam',\n",
    "             '/hpc/hub_oudenaarden/vbhardwaj/2019_scHiC/04_ESC_NPC/04_workflow_outputs/fESC_CTCF-K4me3_26-02-2020/dedup_bam/HVG-ChIC-fESC-CTCF-i4-26-02-20.bam'\n",
    "           ]"
   ]
  },
  {
   "cell_type": "code",
   "execution_count": 5,
   "metadata": {},
   "outputs": [],
   "source": [
    "## real barcodes\n",
    "barcodes_real = pd.read_csv('/hpc/hub_oudenaarden/vbhardwaj/annotations/cell_barcodes_inhouse/maya_384NLA.bc', \n",
    "                            sep = \"\\t\", header=None)\n",
    "barcodes = [ bc for bc in barcodes_real[0] ]"
   ]
  },
  {
   "cell_type": "code",
   "execution_count": 6,
   "metadata": {},
   "outputs": [],
   "source": [
    "binSize = 100000\n",
    "distanceBetweenBins = 0\n",
    "numberOfProcessors = 10\n",
    "genomeChunkSize = None\n",
    "stepsize = binSize + distanceBetweenBins"
   ]
  },
  {
   "cell_type": "code",
   "execution_count": 7,
   "metadata": {},
   "outputs": [],
   "source": [
    "c = countR.CountReadsPerBin(\n",
    "        bamfiles,\n",
    "        binSize,\n",
    "        barcodes=barcodes,\n",
    "        numberOfSamples=None,\n",
    "        numberOfProcessors=numberOfProcessors,\n",
    "        verbose=False,\n",
    "        region=None,\n",
    "        bedFile=None,\n",
    "        blackListFileName=None,\n",
    "        extendReads=None,\n",
    "        minMappingQuality=10,\n",
    "        ignoreDuplicates=True,\n",
    "        center_read=False,\n",
    "        samFlag_include=None,\n",
    "        samFlag_exclude=None,\n",
    "        minFragmentLength=1,\n",
    "        maxFragmentLength=2000,\n",
    "        stepSize=stepsize,\n",
    "        zerosToNans=False,\n",
    "        out_file_for_raw_data=None)"
   ]
  },
  {
   "cell_type": "code",
   "execution_count": 9,
   "metadata": {},
   "outputs": [],
   "source": [
    "num_reads_per_bin = c.run(allArgs=None)"
   ]
  },
  {
   "cell_type": "code",
   "execution_count": 11,
   "metadata": {},
   "outputs": [
    {
     "data": {
      "text/plain": [
       "(27348, 1536)"
      ]
     },
     "execution_count": 11,
     "metadata": {},
     "output_type": "execute_result"
    }
   ],
   "source": [
    "num_reads_per_bin.shape"
   ]
  },
  {
   "cell_type": "code",
   "execution_count": null,
   "metadata": {},
   "outputs": [],
   "source": [
    "array = np.zeros((10, 384), dtype='float64')"
   ]
  },
  {
   "cell_type": "code",
   "execution_count": null,
   "metadata": {},
   "outputs": [],
   "source": [
    "array."
   ]
  },
  {
   "cell_type": "code",
   "execution_count": null,
   "metadata": {},
   "outputs": [],
   "source": [
    "def get_fragment_from_read(read):\n",
    "    return read.get_blocks()"
   ]
  },
  {
   "cell_type": "code",
   "execution_count": null,
   "metadata": {},
   "outputs": [],
   "source": [
    "import pysam\n",
    "format_options = [b\"required_fields=0x1FF\"]\n",
    "\n",
    "bam_handles = []\n",
    "for fname in bamfiles:\n",
    "    bamHandle = pysam.Samfile(fname, 'rb', format_options=format_options)\n",
    "    bam_handles.append(bamHandle)"
   ]
  },
  {
   "cell_type": "code",
   "execution_count": null,
   "metadata": {},
   "outputs": [],
   "source": [
    "bam_handles"
   ]
  },
  {
   "cell_type": "code",
   "execution_count": null,
   "metadata": {},
   "outputs": [],
   "source": [
    "readlist = []\n",
    "for read in bamHandle.fetch('1', 2000000, 10000000):\n",
    "    readlist.append(read)\n"
   ]
  },
  {
   "cell_type": "code",
   "execution_count": null,
   "metadata": {},
   "outputs": [],
   "source": [
    "readlist[0].get_tag('BC')"
   ]
  },
  {
   "cell_type": "code",
   "execution_count": null,
   "metadata": {},
   "outputs": [],
   "source": [
    "chrom = '1'\n",
    "start = 2000000\n",
    "end = 10000000\n",
    "binLength = 100000\n",
    "\n",
    "transcriptsToConsider = []\n",
    "transcriptsToConsider.append([(start, end, binLength)])"
   ]
  },
  {
   "cell_type": "code",
   "execution_count": null,
   "metadata": {},
   "outputs": [],
   "source": [
    "transcriptsToConsider"
   ]
  },
  {
   "cell_type": "code",
   "execution_count": null,
   "metadata": {},
   "outputs": [],
   "source": [
    "def get_coverage_of_region(bamHandle, chrom, regions, barcodes, tagName='BC', ## barcodes = list/tuple of barcodes\n",
    "                           fragmentFromRead_func=None):\n",
    "    \"\"\"\n",
    "    Returns a numpy array that corresponds to the number of reads\n",
    "    that overlap with each tile.\n",
    "    \"\"\"\n",
    "    fragmentFromRead_func = get_fragment_from_read\n",
    "    nbins = len(regions)\n",
    "    if len(regions[0]) == 3:\n",
    "        nbins = 0\n",
    "        for reg in regions:\n",
    "            nbins += (reg[1] - reg[0]) // reg[2]\n",
    "            if (reg[1] - reg[0]) % reg[2] > 0:\n",
    "                nbins += 1\n",
    "    #coverages = np.zeros(nbins, dtype='float64')\n",
    "    ## instead of an array, the coverages object is a dict with keys = barcodes, values = np arrays\n",
    "    coverages = {}\n",
    "    for bc in barcodes:\n",
    "        coverages[bc] = np.zeros(nbins, dtype='float64')\n",
    "\n",
    "    extension = 0\n",
    "    blackList = None\n",
    "    vector_start = 0\n",
    "    for idx, reg in enumerate(regions):\n",
    "        if len(reg) == 3:\n",
    "            tileSize = int(reg[2])\n",
    "            nRegBins = (reg[1] - reg[0]) // tileSize\n",
    "            if (reg[1] - reg[0]) % tileSize > 0:\n",
    "                # Don't eliminate small bins! Issue 887\n",
    "                nRegBins += 1\n",
    "        else:\n",
    "            nRegBins = 1\n",
    "            tileSize = int(reg[1] - reg[0])\n",
    "\n",
    "        regStart = int(max(0, reg[0] - extension))\n",
    "        regEnd = reg[1] + int(extension)\n",
    "        start_time = time.time()\n",
    "        # caching seems faster. TODO: profile the function\n",
    "        c = 0\n",
    "        if chrom not in bamHandle.references:\n",
    "            raise NameError(\"chromosome {} not found in bam file\".format(chrom))\n",
    "\n",
    "        prev_pos = set()\n",
    "        lpos = None\n",
    "        # of previous processed read pair\n",
    "        # read object should also return the barcode name\n",
    "        for read in bamHandle.fetch(chrom, regStart, regEnd):\n",
    "            ## get barcode from read\n",
    "            bc = read.get_tag(tagName)\n",
    "            # since reads can be split (e.g. RNA-seq reads) each part of the\n",
    "            # read that maps is called a position block.\n",
    "            try:\n",
    "                position_blocks = fragmentFromRead_func(read)\n",
    "            except TypeError:\n",
    "                # the get_fragment_from_read functions returns None in some cases.\n",
    "                # Those cases are to be skipped, hence the continue line.\n",
    "                continue\n",
    "\n",
    "            last_eIdx = None\n",
    "            for fragmentStart, fragmentEnd in position_blocks:\n",
    "                if fragmentEnd is None or fragmentStart is None:\n",
    "                    continue\n",
    "                fragmentLength = fragmentEnd - fragmentStart\n",
    "                if fragmentLength == 0:\n",
    "                    continue\n",
    "                # skip reads that are not in the region being\n",
    "                # evaluated.\n",
    "                if fragmentEnd <= reg[0] or fragmentStart >= reg[1]:\n",
    "                    continue\n",
    "\n",
    "                if fragmentStart < reg[0]:\n",
    "                    fragmentStart = reg[0]\n",
    "                if fragmentEnd > reg[0] + len(coverages) * tileSize:\n",
    "                    fragmentEnd = reg[0] + len(coverages) * tileSize\n",
    "\n",
    "                sIdx = vector_start + max((fragmentStart - reg[0]) // tileSize, 0)\n",
    "                eIdx = vector_start + min(np.ceil(float(fragmentEnd - reg[0]) / tileSize).astype('int'), nRegBins)\n",
    "                if last_eIdx is not None:\n",
    "                    sIdx = max(last_eIdx, sIdx)\n",
    "                    if sIdx >= eIdx:\n",
    "                        continue\n",
    "                sIdx = int(sIdx)\n",
    "                eIdx = int(eIdx)\n",
    "                #coverages[sIdx:eIdx] += 1\n",
    "                coverages[bc][sIdx:eIdx] += 1\n",
    "                last_eIdx = eIdx\n",
    "            c += 1\n",
    "        vector_start += nRegBins\n",
    "\n",
    "    return coverages"
   ]
  },
  {
   "cell_type": "code",
   "execution_count": null,
   "metadata": {},
   "outputs": [],
   "source": [
    "subnum_reads_per_bin = []\n",
    "for bam in bam_handles:\n",
    "    for trans in transcriptsToConsider:\n",
    "        tcov = get_coverage_of_region(bam, chrom, trans, barcodes)\n",
    "        tcov_stack = np.stack(list(tcov.values()))\n",
    "        tcov_keys = list(tcov.keys())\n",
    "        subnum_reads_per_bin.extend(tcov_stack)"
   ]
  },
  {
   "cell_type": "code",
   "execution_count": null,
   "metadata": {},
   "outputs": [],
   "source": [
    "# subnum_reads_per_bin is a list of arrays of size (nCells*nBAM), shape of each array = (nBins, )\n",
    "print(len(subnum_reads_per_bin))\n",
    "print(subnum_reads_per_bin[0].shape)"
   ]
  },
  {
   "cell_type": "code",
   "execution_count": null,
   "metadata": {},
   "outputs": [],
   "source": [
    "subnum_reads_per_bin[0]"
   ]
  },
  {
   "cell_type": "code",
   "execution_count": null,
   "metadata": {},
   "outputs": [],
   "source": [
    "transcriptsToConsider"
   ]
  },
  {
   "cell_type": "code",
   "execution_count": null,
   "metadata": {},
   "outputs": [],
   "source": [
    "#np.concatenate([ subnum_reads_per_bin ]).reshape(-1, len(bamfiles), order='F')\n",
    "ct = np.concatenate([ subnum_reads_per_bin ]).reshape(-1, len(barcodes)*len(bamfiles), order='F')\n"
   ]
  },
  {
   "cell_type": "code",
   "execution_count": null,
   "metadata": {},
   "outputs": [],
   "source": [
    "for i, trans in enumerate(transcriptsToConsider):\n",
    "    print(len(ct[i, :]))"
   ]
  },
  {
   "cell_type": "code",
   "execution_count": null,
   "metadata": {},
   "outputs": [],
   "source": [
    "ct"
   ]
  }
 ],
 "metadata": {
  "kernelspec": {
   "display_name": "Python 3",
   "language": "python",
   "name": "python3"
  },
  "language_info": {
   "codemirror_mode": {
    "name": "ipython",
    "version": 3
   },
   "file_extension": ".py",
   "mimetype": "text/x-python",
   "name": "python",
   "nbconvert_exporter": "python",
   "pygments_lexer": "ipython3",
   "version": "3.7.3"
  }
 },
 "nbformat": 4,
 "nbformat_minor": 4
}
