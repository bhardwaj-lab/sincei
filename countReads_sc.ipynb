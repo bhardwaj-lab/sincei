{
 "cells": [
  {
   "cell_type": "markdown",
   "metadata": {},
   "source": [
    "## Goal\n",
    "\n",
    "**Modify countReadsPerBin such that it takes the barcode (list) argument and returns an np.array of shape (bins, barcodes\\*len(bam))**"
   ]
  },
  {
   "cell_type": "code",
   "execution_count": 1,
   "metadata": {},
   "outputs": [],
   "source": [
    "import os\n",
    "import time\n",
    "import sys\n",
    "import numpy as np\n",
    "from scipy import sparse, io\n",
    "\n",
    "debug = 0\n",
    "old_settings = np.seterr(all='ignore')\n",
    "## own functions\n",
    "sys.path.append(\".\")\n",
    "import scReadCounter as countR"
   ]
  },
  {
   "cell_type": "code",
   "execution_count": null,
   "metadata": {},
   "outputs": [],
   "source": [
    "import py2bit\n",
    "## get the mm10 as 2bit\n",
    "genome = \"mouse_ensembl_97.2bit\"\n",
    "tb = py2bit.open(genome, True)"
   ]
  },
  {
   "cell_type": "code",
   "execution_count": 2,
   "metadata": {},
   "outputs": [],
   "source": [
    "bamfiles = [ '/hpc/hub_oudenaarden/vbhardwaj/2019_scHiC/04_ESC_NPC/04_workflow_outputs/fESC_CTCF-K4me3_26-02-2020/dedup_bam/HVG-ChIC-fESC-CTCF-i1-26-02-20.bam',\n",
    "             '/hpc/hub_oudenaarden/vbhardwaj/2019_scHiC/04_ESC_NPC/04_workflow_outputs/fESC_CTCF-K4me3_26-02-2020/dedup_bam/HVG-ChIC-fESC-CTCF-i2-26-02-20.bam',\n",
    "             '/hpc/hub_oudenaarden/vbhardwaj/2019_scHiC/04_ESC_NPC/04_workflow_outputs/fESC_CTCF-K4me3_26-02-2020/dedup_bam/HVG-ChIC-fESC-CTCF-i3-26-02-20.bam',\n",
    "             '/hpc/hub_oudenaarden/vbhardwaj/2019_scHiC/04_ESC_NPC/04_workflow_outputs/fESC_CTCF-K4me3_26-02-2020/dedup_bam/HVG-ChIC-fESC-CTCF-i4-26-02-20.bam'\n",
    "           ]"
   ]
  },
  {
   "cell_type": "code",
   "execution_count": 3,
   "metadata": {},
   "outputs": [],
   "source": [
    "whitelist = '/hpc/hub_oudenaarden/vbhardwaj/annotations/cell_barcodes_inhouse/maya_384NLA.bc'\n",
    "# open file and read the content in a list\n",
    "with open(whitelist, 'r') as f:\n",
    "    barcodes = f.read().splitlines()"
   ]
  },
  {
   "cell_type": "code",
   "execution_count": 4,
   "metadata": {},
   "outputs": [],
   "source": [
    "binSize = 100000\n",
    "distanceBetweenBins = 0\n",
    "numberOfProcessors = 20\n",
    "genomeChunkSize = None\n",
    "stepsize = binSize + distanceBetweenBins\n",
    "bed_file = None#\"/hpc/hub_oudenaarden/vbhardwaj/annotations/mm10_gencode23/custom_annotation/gencode.vM23.level1_only.gtf\"\n",
    "blacklist = \"/hpc/hub_oudenaarden/vbhardwaj/annotations/blacklists/mm10-blacklist.v2.bed\"\n",
    "\n",
    "labels = ['i1', 'i2', 'i3', 'i4']\n",
    "outFilePrefix = \"test_counts\"\n",
    "\n",
    "mtxFile = outFilePrefix + \".counts.mtx\"\n",
    "rowNamesFile = outFilePrefix + \".rownames.txt\"\n",
    "colNamesFile = outFilePrefix + \".colnames.txt\""
   ]
  },
  {
   "cell_type": "code",
   "execution_count": null,
   "metadata": {},
   "outputs": [],
   "source": [
    "c = countR.CountReadsPerBin(\n",
    "        bamfiles,\n",
    "        binLength=binSize,\n",
    "        stepSize=stepsize,\n",
    "        barcodes=barcodes,\n",
    "        motifFilter=None,\n",
    "        tagName='BC',\n",
    "        numberOfSamples=None,\n",
    "        numberOfProcessors=numberOfProcessors,\n",
    "        verbose=False,\n",
    "        region=None,\n",
    "        bedFile=bed_file,\n",
    "        blackListFileName=None,\n",
    "        extendReads=None,\n",
    "        minMappingQuality=10,\n",
    "        ignoreDuplicates=True,\n",
    "        center_read=False,\n",
    "        samFlag_include=None,\n",
    "        samFlag_exclude=None,\n",
    "        minFragmentLength=1,\n",
    "        maxFragmentLength=2000,\n",
    "        zerosToNans=False,\n",
    "        out_file_for_raw_data=rowNamesFile)"
   ]
  },
  {
   "cell_type": "code",
   "execution_count": null,
   "metadata": {},
   "outputs": [],
   "source": [
    "num_reads_per_bin = c.run(allArgs=None)"
   ]
  },
  {
   "cell_type": "code",
   "execution_count": null,
   "metadata": {},
   "outputs": [],
   "source": [
    "rowSums = np.sum(num_reads_per_bin, axis=0)\n",
    "colSums = np.sum(num_reads_per_bin, axis=1)"
   ]
  },
  {
   "cell_type": "code",
   "execution_count": null,
   "metadata": {},
   "outputs": [],
   "source": [
    "np.sum(num_reads_per_bin)"
   ]
  },
  {
   "cell_type": "code",
   "execution_count": null,
   "metadata": {},
   "outputs": [],
   "source": [
    "import seaborn as sns"
   ]
  },
  {
   "cell_type": "code",
   "execution_count": null,
   "metadata": {},
   "outputs": [],
   "source": [
    "%matplotlib inline\n",
    "sns.distplot(rowSums)"
   ]
  },
  {
   "cell_type": "code",
   "execution_count": null,
   "metadata": {},
   "outputs": [],
   "source": [
    "sns.distplot(colSums)"
   ]
  },
  {
   "cell_type": "code",
   "execution_count": null,
   "metadata": {},
   "outputs": [],
   "source": [
    "## add labels to barcodes and write\n",
    "newlabels = [\"{}_{}\".format(a, b) for a in labels for b in barcodes ]\n",
    "\n",
    "f = open(colNamesFile, \"w\")\n",
    "f.write(\"\\n\".join(newlabels))\n",
    "f.write(\"\\n\")\n",
    "f.close()\n",
    "\n",
    "## write the matrix as .mtx\n",
    "sp = sparse.csr_matrix(num_reads_per_bin)\n",
    "io.mmwrite(mtxFile, sp, field=\"integer\")"
   ]
  },
  {
   "cell_type": "markdown",
   "metadata": {},
   "source": [
    "### Remaining updates\n",
    "\n",
    " - Filter reads based on sequence in read and corresponding genome sequence.\n",
    " - pseudo-bulk bigwigs: collapse barcodes into pre-defined sets and perform CPM normalization taking cell number into account"
   ]
  },
  {
   "cell_type": "code",
   "execution_count": null,
   "metadata": {},
   "outputs": [],
   "source": [
    "## Filter reads based on motif presence\n",
    "## first let's see what info we get from a read\n",
    "from deeptools import bamHandler"
   ]
  },
  {
   "cell_type": "markdown",
   "metadata": {},
   "source": [
    "Criteria for scChIC Forward aligned read: Read has 'A' , upstream has 'T'\n",
    "\n",
    "R1 ........A------->\n",
    "\n",
    "----------TA------------\\ Ref (+)\n",
    "\n",
    "Rev aligned read: read has 'T', downstream has A\n",
    "\n",
    "<-------T....... R1\n",
    "\n",
    "--------TA------------\\ Ref (+)\n"
   ]
  },
  {
   "cell_type": "code",
   "execution_count": null,
   "metadata": {},
   "outputs": [],
   "source": [
    "bam = bamHandler.openBam(bamfiles[0], returnStats=False)"
   ]
  },
  {
   "cell_type": "code",
   "execution_count": null,
   "metadata": {},
   "outputs": [],
   "source": [
    "reads = []\n",
    "for read in bam.fetch('1', 2000000, 5000000):\n",
    "    reads.append(read)\n",
    "reads"
   ]
  },
  {
   "cell_type": "code",
   "execution_count": null,
   "metadata": {},
   "outputs": [],
   "source": [
    "cigarlist = []\n",
    "for i in range(0,500):\n",
    "    read = reads[i]\n",
    "    print(read.is_reverse)\n",
    "    cigarlist.append(read.cigarstring)\n",
    "    print(read.get_forward_sequence())\n",
    "    print(read.get_reference_sequence())\n",
    "    if(read.is_reverse):\n",
    "        print(read.get_reference_positions()[0:2])\n",
    "    else:\n",
    "        print(read.get_reference_positions()[-3:-1])    \n",
    "    i += 1"
   ]
  },
  {
   "cell_type": "code",
   "execution_count": null,
   "metadata": {},
   "outputs": [],
   "source": [
    "import re\n"
   ]
  },
  {
   "cell_type": "code",
   "execution_count": null,
   "metadata": {},
   "outputs": [],
   "source": [
    "out = [re.search(\"I|S\", x) for x in cigarlist ]"
   ]
  },
  {
   "cell_type": "code",
   "execution_count": null,
   "metadata": {},
   "outputs": [],
   "source": [
    "pos = [i for i, x in enumerate(out) if x]"
   ]
  },
  {
   "cell_type": "code",
   "execution_count": null,
   "metadata": {},
   "outputs": [],
   "source": [
    "specialReads = [reads[i] for i in  pos]"
   ]
  },
  {
   "cell_type": "code",
   "execution_count": null,
   "metadata": {},
   "outputs": [],
   "source": [
    "bam.get_reference_name(read.reference_id)"
   ]
  },
  {
   "cell_type": "code",
   "execution_count": null,
   "metadata": {},
   "outputs": [],
   "source": [
    "t = None\n",
    "t2 = False\n",
    "t3 = ['Some', 'Value']\n",
    "if t3:\n",
    "    print(\"yes\")\n",
    "else:\n",
    "     print(\"No\")   "
   ]
  },
  {
   "cell_type": "code",
   "execution_count": null,
   "metadata": {},
   "outputs": [],
   "source": [
    "len(t3)"
   ]
  },
  {
   "cell_type": "code",
   "execution_count": null,
   "metadata": {},
   "outputs": [],
   "source": [
    "def checkMotifs(read, readMotif, refMotif):\n",
    "    # get read and ref motif pos\n",
    "    read_motif = read.get_forward_sequence()[0:len(readMotif)]   \n",
    "    chrom = bam.get_reference_name(read.reference_id)\n",
    "    ref_motifLen = len(refMotif) - 1\n",
    "    \n",
    "    if(read.is_reverse):\n",
    "        read_stat = \"reverse\"\n",
    "        # for reverse reads ref motif begins at read-end and ends downstream\n",
    "        ref_motif = tb.sequence(chrom, read.reference_end - 1, read.reference_end + ref_motifLen)\n",
    "    else:\n",
    "        read_stat = \"forward\"\n",
    "        # for forward reads ref motif begins upstream and ends at read-start\n",
    "        ref_motif = tb.sequence(chrom, read.reference_start - ref_motifLen, read.reference_start + 1)\n",
    "    \n",
    "    if read_motif == readMotif and ref_motif == refMotif:\n",
    "        return True\n",
    "#        print(read_stat)\n",
    "#        print(read.get_forward_sequence())\n",
    "#        print(read.get_reference_sequence())\n",
    "#        print(read_motif)\n",
    "#        print(ref_motif)\n",
    "    else:\n",
    "        return False\n",
    "#        print(False)"
   ]
  },
  {
   "cell_type": "markdown",
   "metadata": {},
   "source": [
    "**Looks like it's working** Test on a specific bam file region"
   ]
  },
  {
   "cell_type": "code",
   "execution_count": null,
   "metadata": {},
   "outputs": [],
   "source": [
    "# chr5:44,095,633-44,096,163\n",
    "testbam = '/hpc/hub_oudenaarden/vbhardwaj/2019_scHiC/02_scChIC_test/10_singlecells_k4me3-ctcf_bonemarrow/dedup_bam/fBM-pCTCF-k4me3-i1.bam'\n",
    "bam = bamHandler.openBam(testbam, returnStats=False)\n",
    "reads = []\n",
    "for read in bam.fetch('5', 44095633, 44096163):\n",
    "    reads.append(read)"
   ]
  },
  {
   "cell_type": "code",
   "execution_count": null,
   "metadata": {},
   "outputs": [],
   "source": [
    "# there are 8 reads here\n",
    "reads"
   ]
  },
  {
   "cell_type": "markdown",
   "metadata": {},
   "source": [
    "![](./test_region_chic.png)"
   ]
  },
  {
   "cell_type": "markdown",
   "metadata": {},
   "source": [
    "two forward reads have 'TA' and 'AA' in the genome\n",
    "6 reverse reads all have 'TA' overhang"
   ]
  },
  {
   "cell_type": "code",
   "execution_count": null,
   "metadata": {},
   "outputs": [],
   "source": [
    "# now test for A/T and TA motifs\n",
    "for r in reads:\n",
    "    checkMotifs(r, 'A', 'TA')"
   ]
  },
  {
   "cell_type": "markdown",
   "metadata": {},
   "source": [
    "**Perfect!** What happens if I ask for 'A' in read and 'AGATAA' in reference?\n",
    "\n",
    "Only 2nd read should pop up"
   ]
  },
  {
   "cell_type": "code",
   "execution_count": null,
   "metadata": {},
   "outputs": [],
   "source": [
    "for r in reads:\n",
    "    checkMotifs(r, 'A', 'AGATAA')"
   ]
  },
  {
   "cell_type": "code",
   "execution_count": null,
   "metadata": {},
   "outputs": [],
   "source": [
    "## if I ask for AGT in read?\n",
    "for r in reads:\n",
    "    checkMotifs(r, 'AGT', 'AGATAA')"
   ]
  },
  {
   "cell_type": "markdown",
   "metadata": {},
   "source": [
    "Check some motifs on reverse-read"
   ]
  },
  {
   "cell_type": "code",
   "execution_count": null,
   "metadata": {},
   "outputs": [],
   "source": [
    "## only 3 reverse reads should pop up\n",
    "for r in reads:\n",
    "    checkMotifs(r, 'A', 'TAAA')"
   ]
  },
  {
   "cell_type": "code",
   "execution_count": null,
   "metadata": {},
   "outputs": [],
   "source": [
    "## only 1 reverse reads should pop up\n",
    "for r in reads:\n",
    "    checkMotifs(r, 'A', 'TAAG')"
   ]
  },
  {
   "cell_type": "code",
   "execution_count": null,
   "metadata": {},
   "outputs": [],
   "source": [
    "## only 1 reverse reads should pop up\n",
    "for r in reads:\n",
    "    checkMotifs(r, 'ACTG', 'TAAG')"
   ]
  },
  {
   "cell_type": "markdown",
   "metadata": {},
   "source": [
    "**All good.. let's lock it!**"
   ]
  },
  {
   "cell_type": "markdown",
   "metadata": {},
   "source": [
    "Implemented. Now let's see if the output counts are different using TA filter"
   ]
  },
  {
   "cell_type": "code",
   "execution_count": 10,
   "metadata": {},
   "outputs": [],
   "source": [
    "bamfiles = ['/hpc/hub_oudenaarden/vbhardwaj/2019_scHiC/02_scChIC_test/10_singlecells_k4me3-ctcf_bonemarrow/dedup_bam/fBM-pCTCF-k4me3-i1.bam']"
   ]
  },
  {
   "cell_type": "code",
   "execution_count": 11,
   "metadata": {},
   "outputs": [],
   "source": [
    "bed_file = \"test_region.bed\""
   ]
  },
  {
   "cell_type": "code",
   "execution_count": 12,
   "metadata": {},
   "outputs": [],
   "source": [
    "c_filt = countR.CountReadsPerBin(\n",
    "        bamfiles,\n",
    "        binLength=None,\n",
    "        stepSize=None,\n",
    "        barcodes=barcodes,\n",
    "        tagName='BC',\n",
    "        motifFilter=['A', 'TA'],\n",
    "        genome2bit=\"mouse_ensembl_97.2bit\",\n",
    "        numberOfSamples=None,\n",
    "        numberOfProcessors=10,\n",
    "        verbose=False,\n",
    "        region=None,\n",
    "        bedFile=bed_file,\n",
    "        blackListFileName=None,\n",
    "        extendReads=None,\n",
    "        minMappingQuality=10,\n",
    "        ignoreDuplicates=True,\n",
    "        center_read=False,\n",
    "        samFlag_include=None,\n",
    "        samFlag_exclude=None,\n",
    "        minFragmentLength=1,\n",
    "        maxFragmentLength=2000,\n",
    "        zerosToNans=False,\n",
    "        out_file_for_raw_data=rowNamesFile)"
   ]
  },
  {
   "cell_type": "code",
   "execution_count": 13,
   "metadata": {},
   "outputs": [],
   "source": [
    "num_reads_filt = c_filt.run(allArgs=None)"
   ]
  },
  {
   "cell_type": "markdown",
   "metadata": {},
   "source": [
    "**It works**"
   ]
  },
  {
   "cell_type": "markdown",
   "metadata": {},
   "source": [
    "### Remaining updates\n",
    " - low complexity filter: remove reads which are very low complexity\n",
    " - Stats: Store and output cell-level stats for all filters\n",
    " - pseudo-bulk bigwigs: collapse barcodes into pre-defined sets and perform CPM normalization taking cell number into account"
   ]
  }
 ],
 "metadata": {
  "kernelspec": {
   "display_name": "Python 3",
   "language": "python",
   "name": "python3"
  },
  "language_info": {
   "codemirror_mode": {
    "name": "ipython",
    "version": 3
   },
   "file_extension": ".py",
   "mimetype": "text/x-python",
   "name": "python",
   "nbconvert_exporter": "python",
   "pygments_lexer": "ipython3",
   "version": "3.7.3"
  }
 },
 "nbformat": 4,
 "nbformat_minor": 4
}
