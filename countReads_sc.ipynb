{
 "cells": [
  {
   "cell_type": "markdown",
   "metadata": {},
   "source": [
    "## Goal\n",
    "\n",
    "**Modify countReadsPerBin such that it takes the barcode (list) argument and returns an np.array of shape (bins, barcodes\\*len(bam))**"
   ]
  },
  {
   "cell_type": "code",
   "execution_count": 1,
   "metadata": {},
   "outputs": [],
   "source": [
    "import os\n",
    "import time\n",
    "import sys\n",
    "import numpy as np\n",
    "from scipy import sparse, io\n",
    "\n",
    "debug = 0\n",
    "old_settings = np.seterr(all='ignore')\n",
    "## own functions\n",
    "sys.path.append(\".\")\n",
    "import scReadCounter as countR"
   ]
  },
  {
   "cell_type": "code",
   "execution_count": 2,
   "metadata": {},
   "outputs": [],
   "source": [
    "bamfiles = [ '/hpc/hub_oudenaarden/vbhardwaj/2019_scHiC/04_ESC_NPC/04_workflow_outputs/fESC_CTCF-K4me3_26-02-2020/dedup_bam/HVG-ChIC-fESC-CTCF-i1-26-02-20.bam',\n",
    "             '/hpc/hub_oudenaarden/vbhardwaj/2019_scHiC/04_ESC_NPC/04_workflow_outputs/fESC_CTCF-K4me3_26-02-2020/dedup_bam/HVG-ChIC-fESC-CTCF-i2-26-02-20.bam',\n",
    "             '/hpc/hub_oudenaarden/vbhardwaj/2019_scHiC/04_ESC_NPC/04_workflow_outputs/fESC_CTCF-K4me3_26-02-2020/dedup_bam/HVG-ChIC-fESC-CTCF-i3-26-02-20.bam',\n",
    "             '/hpc/hub_oudenaarden/vbhardwaj/2019_scHiC/04_ESC_NPC/04_workflow_outputs/fESC_CTCF-K4me3_26-02-2020/dedup_bam/HVG-ChIC-fESC-CTCF-i4-26-02-20.bam'\n",
    "           ]"
   ]
  },
  {
   "cell_type": "code",
   "execution_count": 9,
   "metadata": {},
   "outputs": [],
   "source": [
    "whitelist = '/hpc/hub_oudenaarden/vbhardwaj/annotations/cell_barcodes_inhouse/maya_384NLA.bc'\n",
    "# open file and read the content in a list\n",
    "with open(whitelist, 'r') as f:\n",
    "    barcodes = f.read().splitlines()"
   ]
  },
  {
   "cell_type": "code",
   "execution_count": 13,
   "metadata": {},
   "outputs": [],
   "source": [
    "binSize = 100000\n",
    "distanceBetweenBins = 0\n",
    "numberOfProcessors = 20\n",
    "genomeChunkSize = None\n",
    "stepsize = binSize + distanceBetweenBins\n",
    "bed_file = None#\"/hpc/hub_oudenaarden/vbhardwaj/annotations/mm10_gencode23/custom_annotation/gencode.vM23.level1_only.gtf\"\n",
    "blacklist = \"/hpc/hub_oudenaarden/vbhardwaj/annotations/blacklists/mm10-blacklist.v2.bed\"\n",
    "\n",
    "labels = ['i1', 'i2', 'i3', 'i4']\n",
    "outFilePrefix = \"test_counts\"\n",
    "\n",
    "mtxFile = outFilePrefix + \".counts.mtx\"\n",
    "rowNamesFile = outFilePrefix + \".rownames.txt\"\n",
    "colNamesFile = outFilePrefix + \".colnames.txt\""
   ]
  },
  {
   "cell_type": "code",
   "execution_count": 14,
   "metadata": {},
   "outputs": [],
   "source": [
    "c = countR.CountReadsPerBin(\n",
    "        bamfiles,\n",
    "        binLength=binSize,\n",
    "        stepSize=stepsize,\n",
    "        barcodes=barcodes,\n",
    "        tagName='BC',\n",
    "        numberOfSamples=None,\n",
    "        numberOfProcessors=numberOfProcessors,\n",
    "        verbose=False,\n",
    "        region=None,\n",
    "        bedFile=bed_file,\n",
    "        blackListFileName=None,\n",
    "        extendReads=None,\n",
    "        minMappingQuality=10,\n",
    "        ignoreDuplicates=True,\n",
    "        center_read=False,\n",
    "        samFlag_include=None,\n",
    "        samFlag_exclude=None,\n",
    "        minFragmentLength=1,\n",
    "        maxFragmentLength=2000,\n",
    "        zerosToNans=False,\n",
    "        out_file_for_raw_data=rowNamesFile)"
   ]
  },
  {
   "cell_type": "code",
   "execution_count": 15,
   "metadata": {},
   "outputs": [],
   "source": [
    "num_reads_per_bin = c.run(allArgs=None)"
   ]
  },
  {
   "cell_type": "code",
   "execution_count": 16,
   "metadata": {},
   "outputs": [],
   "source": [
    "## add labels to barcodes and write\n",
    "newlabels = [\"{}_{}\".format(a, b) for a in labels for b in barcodes ]\n",
    "\n",
    "f = open(colNamesFile, \"w\")\n",
    "f.write(\"\\n\".join(newlabels))\n",
    "f.write(\"\\n\")\n",
    "f.close()\n",
    "\n",
    "## write the matrix as .mtx\n",
    "sp = sparse.csr_matrix(num_reads_per_bin)\n",
    "io.mmwrite(mtxFile, sp, field=\"integer\")"
   ]
  },
  {
   "cell_type": "code",
   "execution_count": null,
   "metadata": {},
   "outputs": [],
   "source": []
  }
 ],
 "metadata": {
  "kernelspec": {
   "display_name": "Python 3",
   "language": "python",
   "name": "python3"
  },
  "language_info": {
   "codemirror_mode": {
    "name": "ipython",
    "version": 3
   },
   "file_extension": ".py",
   "mimetype": "text/x-python",
   "name": "python",
   "nbconvert_exporter": "python",
   "pygments_lexer": "ipython3",
   "version": "3.7.3"
  }
 },
 "nbformat": 4,
 "nbformat_minor": 4
}
