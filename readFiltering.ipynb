{
 "cells": [
  {
   "cell_type": "code",
   "execution_count": 8,
   "metadata": {},
   "outputs": [],
   "source": [
    "import os\n",
    "import time\n",
    "import sys\n",
    "import numpy as np\n",
    "from scipy import sparse, io\n",
    "\n",
    "debug = 0\n",
    "old_settings = np.seterr(all='ignore')\n",
    "## own functions\n",
    "sys.path.append(\".\")\n",
    "\n",
    "from deeptools import parserCommon, bamHandler, utilities\n",
    "from deeptools.mapReduce import mapReduce\n",
    "from deeptools.utilities import smartLabels"
   ]
  },
  {
   "cell_type": "code",
   "execution_count": 9,
   "metadata": {},
   "outputs": [],
   "source": [
    "import argparse\n",
    "from scFilterStats import getFiltered_worker\n",
    "from scFilterStats import parseArguments\n",
    "#from deeptools.estimateReadFiltering import getFiltered_worker\n",
    "#from deeptools.estimateReadFiltering import parseArguments"
   ]
  },
  {
   "cell_type": "code",
   "execution_count": 16,
   "metadata": {},
   "outputs": [],
   "source": [
    "import pandas as pd"
   ]
  },
  {
   "cell_type": "code",
   "execution_count": 10,
   "metadata": {},
   "outputs": [],
   "source": [
    "bamfiles = [ '/hpc/hub_oudenaarden/vbhardwaj/2019_scHiC/04_ESC_NPC/04_workflow_outputs/fESC_CTCF-K4me3_26-02-2020/dedup_bam/HVG-ChIC-fESC-CTCF-i1-26-02-20.bam',\n",
    "             '/hpc/hub_oudenaarden/vbhardwaj/2019_scHiC/04_ESC_NPC/04_workflow_outputs/fESC_CTCF-K4me3_26-02-2020/dedup_bam/HVG-ChIC-fESC-CTCF-i2-26-02-20.bam',\n",
    "             '/hpc/hub_oudenaarden/vbhardwaj/2019_scHiC/04_ESC_NPC/04_workflow_outputs/fESC_CTCF-K4me3_26-02-2020/dedup_bam/HVG-ChIC-fESC-CTCF-i3-26-02-20.bam',\n",
    "             '/hpc/hub_oudenaarden/vbhardwaj/2019_scHiC/04_ESC_NPC/04_workflow_outputs/fESC_CTCF-K4me3_26-02-2020/dedup_bam/HVG-ChIC-fESC-CTCF-i4-26-02-20.bam'\n",
    "           ]"
   ]
  },
  {
   "cell_type": "code",
   "execution_count": 11,
   "metadata": {},
   "outputs": [],
   "source": [
    "args = parseArguments()\n",
    "args = args.parse_args('-b testdata/test.bam -o testdata/outstats.txt --barcodes bc'.split())\n",
    "## make barcode list\n",
    "args.barcodes = ['GCGATGCA', 'TGTACACT', 'GACAGCGC']\n",
    "args.bamfiles = bamfiles#['testdata/test.bam', 'testdata/test2.bam']\n",
    "args.motifFilter = ['A', 'TA']\n",
    "args.genome2bit =  \"testdata/mouse_ensembl_97.2bit\"\n",
    "args.sampleLabels = ['i1', 'i2', 'i3', 'i4']"
   ]
  },
  {
   "cell_type": "code",
   "execution_count": 12,
   "metadata": {},
   "outputs": [],
   "source": [
    "    if args.outFile is None:\n",
    "        of = sys.stdout\n",
    "    else:\n",
    "        of = open(args.outFile, \"w\")\n",
    "\n",
    "    bhs = [bamHandler.openBam(x, returnStats=True, nThreads=args.numberOfProcessors) for x in args.bamfiles]\n",
    "\n",
    "    ## need to convert these stats to single-cells\n",
    "    #mapped = [x[1] for x in bhs]\n",
    "    #unmappedList = [x[2] for x in bhs]\n",
    "    bhs = [x[0] for x in bhs]\n",
    "\n",
    "    chrom_sizes = list(zip(bhs[0].references, bhs[0].lengths))\n",
    "    for x in bhs:\n",
    "        x.close()"
   ]
  },
  {
   "cell_type": "code",
   "execution_count": 13,
   "metadata": {},
   "outputs": [],
   "source": [
    "    # Get the remaining metrics\n",
    "    res = mapReduce([args],\n",
    "                    getFiltered_worker,\n",
    "                    chrom_sizes,\n",
    "                    genomeChunkLength=args.binSize + args.distanceBetweenBins,\n",
    "                    blackListFileName=args.blackListFileName,\n",
    "                    numberOfProcessors=args.numberOfProcessors,\n",
    "                    verbose=args.verbose)"
   ]
  },
  {
   "cell_type": "code",
   "execution_count": 14,
   "metadata": {},
   "outputs": [
    {
     "data": {
      "text/plain": [
       "array([[21549, 12782,     0,     0,     0,     0,     0,  3575,     0,\n",
       "        11025,     0],\n",
       "       [15666,  9263,     0,     0,     0,     0,     0,  2342,     0,\n",
       "         8148,     0],\n",
       "       [ 9957,  5622,     0,     0,     0,     0,     0,  1576,     0,\n",
       "         4762,     0],\n",
       "       [  278,   231,     0,     0,     0,     0,     0,    72,     0,\n",
       "          210,     0],\n",
       "       [16262, 10179,     0,     0,     0,     0,     0,  2600,     0,\n",
       "         9036,     0],\n",
       "       [   24,    18,     0,     0,     0,     0,     0,     3,     0,\n",
       "           17,     0],\n",
       "       [51465, 28364,     0,     0,     0,     0,     0,  9228,     0,\n",
       "        23283,     0],\n",
       "       [   65,    52,     0,     0,     0,     0,     0,    15,     0,\n",
       "           47,     0],\n",
       "       [   21,    15,     0,     0,     0,     0,     0,     4,     0,\n",
       "           14,     0],\n",
       "       [55400, 51709,     0,     0,     0,     0,     0,  9715,     0,\n",
       "        50935,     0],\n",
       "       [  194,   175,     0,     0,     0,     0,     0,    35,     0,\n",
       "          170,     0],\n",
       "       [ 1083,   633,     0,     0,     0,     0,     0,   160,     0,\n",
       "          560,     0]])"
      ]
     },
     "execution_count": 14,
     "metadata": {},
     "output_type": "execute_result"
    }
   ],
   "source": [
    "arr2 = np.asarray(res).sum(axis = 0)"
   ]
  },
  {
   "cell_type": "code",
   "execution_count": 27,
   "metadata": {},
   "outputs": [],
   "source": [
    "rowLabels = [\"{}_{}\".format(a, b) for a in args.sampleLabels for b in args.barcodes ]"
   ]
  },
  {
   "cell_type": "code",
   "execution_count": 34,
   "metadata": {},
   "outputs": [],
   "source": [
    "colLabels = [\"Total\",\"Filtered\",\"Low_MAPQ\",\n",
    "             \"Missing_Flags\",\"Excluded_Flags\",\"Internal_Duplicates\",\n",
    "             \"Marked_Duplicates\",\"Singletons\",\"Wrong_strand\",\n",
    "             \"Wrong_motif\", \"unwanted_GC_content\"]"
   ]
  },
  {
   "cell_type": "code",
   "execution_count": 35,
   "metadata": {},
   "outputs": [],
   "source": [
    "final_df = pd.DataFrame(data = np.concatenate(arr2),\n",
    "                  index = rowLabels,\n",
    "                  columns = colLabels)"
   ]
  },
  {
   "cell_type": "code",
   "execution_count": null,
   "metadata": {},
   "outputs": [],
   "source": [
    "final_df.iloc[:,1:] = final_df.iloc[:,1:].div(final_df.Total, axis=0)*100"
   ]
  },
  {
   "cell_type": "code",
   "execution_count": null,
   "metadata": {},
   "outputs": [],
   "source": []
  }
 ],
 "metadata": {
  "kernelspec": {
   "display_name": "Python 3",
   "language": "python",
   "name": "python3"
  },
  "language_info": {
   "codemirror_mode": {
    "name": "ipython",
    "version": 3
   },
   "file_extension": ".py",
   "mimetype": "text/x-python",
   "name": "python",
   "nbconvert_exporter": "python",
   "pygments_lexer": "ipython3",
   "version": "3.7.3"
  }
 },
 "nbformat": 4,
 "nbformat_minor": 4
}
